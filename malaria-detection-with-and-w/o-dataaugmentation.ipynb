{
 "cells": [
  {
   "cell_type": "code",
   "execution_count": 1,
   "id": "8d262961",
   "metadata": {
    "_cell_guid": "b1076dfc-b9ad-4769-8c92-a6c4dae69d19",
    "_uuid": "8f2839f25d086af736a60e9eeb907d3b93b6e0e5",
    "execution": {
     "iopub.execute_input": "2025-08-26T15:18:29.627953Z",
     "iopub.status.busy": "2025-08-26T15:18:29.627650Z",
     "iopub.status.idle": "2025-08-26T15:18:31.964271Z",
     "shell.execute_reply": "2025-08-26T15:18:31.963301Z"
    },
    "papermill": {
     "duration": 2.345834,
     "end_time": "2025-08-26T15:18:31.967765",
     "exception": false,
     "start_time": "2025-08-26T15:18:29.621931",
     "status": "completed"
    },
    "tags": []
   },
   "outputs": [
    {
     "name": "stdout",
     "output_type": "stream",
     "text": [
      "/kaggle/input/malaria-detection-dataset/Dataset/Test/Uninfected/C3thin_original_IMG_20150608_163029_cell_57.png\n",
      "/kaggle/input/malaria-detection-dataset/Dataset/Test/Uninfected/C3thin_original_IMG_20150608_163002_cell_63.png\n",
      "/kaggle/input/malaria-detection-dataset/Dataset/Test/Uninfected/C3thin_original_IMG_20150608_162922_cell_205.png\n",
      "/kaggle/input/malaria-detection-dataset/Dataset/Test/Uninfected/C3thin_original_IMG_20150608_163002_cell_144.png\n",
      "/kaggle/input/malaria-detection-dataset/Dataset/Test/Uninfected/C3thin_original_IMG_20150608_163002_cell_159.png\n",
      "/kaggle/input/malaria-detection-dataset/Dataset/Test/Uninfected/C3thin_original_IMG_20150608_163002_cell_34.png\n",
      "/kaggle/input/malaria-detection-dataset/Dataset/Test/Uninfected/C3thin_original_IMG_20150608_163047_cell_22.png\n",
      "/kaggle/input/malaria-detection-dataset/Dataset/Test/Uninfected/C3thin_original_IMG_20150608_163047_cell_36.png\n",
      "/kaggle/input/malaria-detection-dataset/Dataset/Test/Uninfected/C3thin_original_IMG_20150608_163002_cell_81.png\n",
      "/kaggle/input/malaria-detection-dataset/Dataset/Test/Uninfected/C3thin_original_IMG_20150608_163002_cell_13.png\n",
      "/kaggle/input/malaria-detection-dataset/Dataset/Test/Uninfected/C3thin_original_IMG_20150608_163029_cell_125.png\n",
      "/kaggle/input/malaria-detection-dataset/Dataset/Test/Uninfected/C3thin_original_IMG_20150608_162922_cell_191.png\n",
      "/kaggle/input/malaria-detection-dataset/Dataset/Test/Uninfected/C3thin_original_IMG_20150608_163029_cell_121.png\n",
      "/kaggle/input/malaria-detection-dataset/Dataset/Test/Uninfected/C3thin_original_IMG_20150608_163047_cell_26.png\n",
      "/kaggle/input/malaria-detection-dataset/Dataset/Test/Uninfected/C3thin_original_IMG_20150608_163047_cell_161.png\n",
      "/kaggle/input/malaria-detection-dataset/Dataset/Test/Uninfected/C3thin_original_IMG_20150608_163047_cell_145.png\n",
      "/kaggle/input/malaria-detection-dataset/Dataset/Test/Uninfected/C3thin_original_IMG_20150608_163029_cell_166.png\n",
      "/kaggle/input/malaria-detection-dataset/Dataset/Test/Uninfected/C3thin_original_IMG_20150608_163029_cell_202.png\n",
      "/kaggle/input/malaria-detection-dataset/Dataset/Test/Uninfected/2.png\n",
      "/kaggle/input/malaria-detection-dataset/Dataset/Test/Uninfected/C3thin_original_IMG_20150608_163002_cell_32.png\n",
      "/kaggle/input/malaria-detection-dataset/Dataset/Test/Uninfected/C3thin_original_IMG_20150608_162922_cell_145.png\n",
      "/kaggle/input/malaria-detection-dataset/Dataset/Test/Uninfected/C3thin_original_IMG_20150608_162922_cell_217.png\n",
      "/kaggle/input/malaria-detection-dataset/Dataset/Test/Uninfected/C3thin_original_IMG_20150608_163029_cell_156.png\n",
      "/kaggle/input/malaria-detection-dataset/Dataset/Test/Uninfected/C3thin_original_IMG_20150608_163047_cell_168.png\n",
      "/kaggle/input/malaria-detection-dataset/Dataset/Test/Uninfected/C3thin_original_IMG_20150608_163029_cell_186.png\n",
      "/kaggle/input/malaria-detection-dataset/Dataset/Test/Uninfected/C3thin_original_IMG_20150608_163029_cell_80.png\n",
      "/kaggle/input/malaria-detection-dataset/Dataset/Test/Uninfected/C3thin_original_IMG_20150608_163047_cell_103.png\n",
      "/kaggle/input/malaria-detection-dataset/Dataset/Test/Uninfected/C3thin_original_IMG_20150608_163002_cell_195.png\n",
      "/kaggle/input/malaria-detection-dataset/Dataset/Test/Uninfected/C3thin_original_IMG_20150608_163029_cell_220.png\n",
      "/kaggle/input/malaria-detection-dataset/Dataset/Test/Uninfected/C3thin_original_IMG_20150608_163047_cell_147.png\n",
      "/kaggle/input/malaria-detection-dataset/Dataset/Test/Uninfected/C3thin_original_IMG_20150608_163029_cell_52.png\n",
      "/kaggle/input/malaria-detection-dataset/Dataset/Test/Uninfected/C3thin_original_IMG_20150608_163029_cell_44.png\n",
      "/kaggle/input/malaria-detection-dataset/Dataset/Test/Uninfected/C3thin_original_IMG_20150608_163002_cell_97.png\n",
      "/kaggle/input/malaria-detection-dataset/Dataset/Test/Uninfected/C3thin_original_IMG_20150608_163002_cell_78.png\n",
      "/kaggle/input/malaria-detection-dataset/Dataset/Test/Uninfected/C3thin_original_IMG_20150608_163047_cell_183.png\n",
      "/kaggle/input/malaria-detection-dataset/Dataset/Test/Uninfected/C3thin_original_IMG_20150608_163002_cell_146.png\n",
      "/kaggle/input/malaria-detection-dataset/Dataset/Test/Uninfected/C3thin_original_IMG_20150608_163029_cell_1.png\n",
      "/kaggle/input/malaria-detection-dataset/Dataset/Test/Uninfected/C3thin_original_IMG_20150608_163029_cell_83.png\n",
      "/kaggle/input/malaria-detection-dataset/Dataset/Test/Uninfected/C3thin_original_IMG_20150608_163002_cell_93.png\n",
      "/kaggle/input/malaria-detection-dataset/Dataset/Test/Uninfected/C3thin_original_IMG_20150608_163002_cell_39.png\n",
      "/kaggle/input/malaria-detection-dataset/Dataset/Test/Uninfected/C3thin_original_IMG_20150608_163002_cell_88.png\n",
      "/kaggle/input/malaria-detection-dataset/Dataset/Test/Uninfected/C3thin_original_IMG_20150608_162922_cell_211.png\n",
      "/kaggle/input/malaria-detection-dataset/Dataset/Test/Uninfected/C3thin_original_IMG_20150608_163029_cell_109.png\n",
      "/kaggle/input/malaria-detection-dataset/Dataset/Test/Parasite/C39P4thinF_original_IMG_20150622_105803_cell_92.png\n",
      "/kaggle/input/malaria-detection-dataset/Dataset/Test/Parasite/C39P4thinF_original_IMG_20150622_105554_cell_20.png\n",
      "/kaggle/input/malaria-detection-dataset/Dataset/Test/Parasite/C39P4thinF_original_IMG_20150622_110352_cell_78.png\n",
      "/kaggle/input/malaria-detection-dataset/Dataset/Test/Parasite/C39P4thinF_original_IMG_20150622_105803_cell_108.png\n",
      "/kaggle/input/malaria-detection-dataset/Dataset/Test/Parasite/C39P4thinF_original_IMG_20150622_105803_cell_81.png\n",
      "/kaggle/input/malaria-detection-dataset/Dataset/Test/Parasite/C39P4thinF_original_IMG_20150622_110115_cell_119.png\n",
      "/kaggle/input/malaria-detection-dataset/Dataset/Test/Parasite/C39P4thinF_original_IMG_20150622_110115_cell_107.png\n",
      "/kaggle/input/malaria-detection-dataset/Dataset/Test/Parasite/C39P4thinF_original_IMG_20150622_105803_cell_102.png\n",
      "/kaggle/input/malaria-detection-dataset/Dataset/Test/Parasite/C39P4thinF_original_IMG_20150622_110115_cell_109.png\n",
      "/kaggle/input/malaria-detection-dataset/Dataset/Test/Parasite/C39P4thinF_original_IMG_20150622_110115_cell_137.png\n",
      "/kaggle/input/malaria-detection-dataset/Dataset/Test/Parasite/C39P4thinF_original_IMG_20150622_105803_cell_80.png\n",
      "/kaggle/input/malaria-detection-dataset/Dataset/Test/Parasite/C39P4thinF_original_IMG_20150622_110115_cell_105.png\n",
      "/kaggle/input/malaria-detection-dataset/Dataset/Test/Parasite/C39P4thinF_original_IMG_20150622_105554_cell_19.png\n",
      "/kaggle/input/malaria-detection-dataset/Dataset/Test/Parasite/C39P4thinF_original_IMG_20150622_105554_cell_11.png\n",
      "/kaggle/input/malaria-detection-dataset/Dataset/Test/Parasite/C39P4thinF_original_IMG_20150622_110115_cell_130.png\n",
      "/kaggle/input/malaria-detection-dataset/Dataset/Test/Parasite/C39P4thinF_original_IMG_20150622_110115_cell_134.png\n",
      "/kaggle/input/malaria-detection-dataset/Dataset/Test/Parasite/C39P4thinF_original_IMG_20150622_105554_cell_22.png\n",
      "/kaggle/input/malaria-detection-dataset/Dataset/Test/Parasite/C39P4thinF_original_IMG_20150622_105803_cell_86.png\n",
      "/kaggle/input/malaria-detection-dataset/Dataset/Test/Parasite/C39P4thinF_original_IMG_20150622_110115_cell_133.png\n",
      "/kaggle/input/malaria-detection-dataset/Dataset/Test/Parasite/C39P4thinF_original_IMG_20150622_110115_cell_112.png\n",
      "/kaggle/input/malaria-detection-dataset/Dataset/Test/Parasite/C39P4thinF_original_IMG_20150622_110115_cell_128.png\n",
      "/kaggle/input/malaria-detection-dataset/Dataset/Test/Parasite/C39P4thinF_original_IMG_20150622_110352_cell_80.png\n",
      "/kaggle/input/malaria-detection-dataset/Dataset/Test/Parasite/C39P4thinF_original_IMG_20150622_110115_cell_122.png\n",
      "/kaggle/input/malaria-detection-dataset/Dataset/Test/Parasite/C39P4thinF_original_IMG_20150622_110115_cell_135.png\n",
      "/kaggle/input/malaria-detection-dataset/Dataset/Test/Parasite/C39P4thinF_original_IMG_20150622_105554_cell_10.png\n",
      "/kaggle/input/malaria-detection-dataset/Dataset/Test/Parasite/C39P4thinF_original_IMG_20150622_110115_cell_117.png\n",
      "/kaggle/input/malaria-detection-dataset/Dataset/Test/Parasite/C39P4thinF_original_IMG_20150622_105554_cell_18.png\n",
      "/kaggle/input/malaria-detection-dataset/Dataset/Test/Parasite/C39P4thinF_original_IMG_20150622_105803_cell_85.png\n",
      "/kaggle/input/malaria-detection-dataset/Dataset/Test/Parasite/C39P4thinF_original_IMG_20150622_105554_cell_24.png\n",
      "/kaggle/input/malaria-detection-dataset/Dataset/Test/Parasite/C39P4thinF_original_IMG_20150622_105803_cell_100.png\n",
      "/kaggle/input/malaria-detection-dataset/Dataset/Test/Parasite/C39P4thinF_original_IMG_20150622_110115_cell_111.png\n",
      "/kaggle/input/malaria-detection-dataset/Dataset/Test/Parasite/C39P4thinF_original_IMG_20150622_105803_cell_104.png\n",
      "/kaggle/input/malaria-detection-dataset/Dataset/Test/Parasite/C39P4thinF_original_IMG_20150622_105803_cell_112.png\n",
      "/kaggle/input/malaria-detection-dataset/Dataset/Test/Parasite/C39P4thinF_original_IMG_20150622_110115_cell_118.png\n",
      "/kaggle/input/malaria-detection-dataset/Dataset/Test/Parasite/C39P4thinF_original_IMG_20150622_105803_cell_109.png\n",
      "/kaggle/input/malaria-detection-dataset/Dataset/Test/Parasite/C39P4thinF_original_IMG_20150622_105803_cell_82.png\n",
      "/kaggle/input/malaria-detection-dataset/Dataset/Test/Parasite/C39P4thinF_original_IMG_20150622_105803_cell_91.png\n",
      "/kaggle/input/malaria-detection-dataset/Dataset/Test/Parasite/C39P4thinF_original_IMG_20150622_105554_cell_15.png\n",
      "/kaggle/input/malaria-detection-dataset/Dataset/Test/Parasite/C39P4thinF_original_IMG_20150622_110115_cell_124.png\n",
      "/kaggle/input/malaria-detection-dataset/Dataset/Test/Parasite/C39P4thinF_original_IMG_20150622_110115_cell_123.png\n",
      "/kaggle/input/malaria-detection-dataset/Dataset/Test/Parasite/C39P4thinF_original_IMG_20150622_105803_cell_79.png\n",
      "/kaggle/input/malaria-detection-dataset/Dataset/Test/Parasite/C39P4thinF_original_IMG_20150622_105803_cell_88.png\n",
      "/kaggle/input/malaria-detection-dataset/Dataset/Test/Parasite/C39P4thinF_original_IMG_20150622_105803_cell_103.png\n",
      "/kaggle/input/malaria-detection-dataset/Dataset/Test/Parasite/C39P4thinF_original_IMG_20150622_105554_cell_9.png\n",
      "/kaggle/input/malaria-detection-dataset/Dataset/Test/Parasite/C39P4thinF_original_IMG_20150622_105554_cell_17.png\n",
      "/kaggle/input/malaria-detection-dataset/Dataset/Test/Parasite/C39P4thinF_original_IMG_20150622_105554_cell_26.png\n",
      "/kaggle/input/malaria-detection-dataset/Dataset/Test/Parasite/C39P4thinF_original_IMG_20150622_105803_cell_83.png\n",
      "/kaggle/input/malaria-detection-dataset/Dataset/Test/Parasite/C39P4thinF_original_IMG_20150622_105803_cell_105.png\n",
      "/kaggle/input/malaria-detection-dataset/Dataset/Test/Parasite/C39P4thinF_original_IMG_20150622_105803_cell_95.png\n",
      "/kaggle/input/malaria-detection-dataset/Dataset/Test/Parasite/C39P4thinF_original_IMG_20150622_110115_cell_108.png\n",
      "/kaggle/input/malaria-detection-dataset/Dataset/Test/Parasite/C39P4thinF_original_IMG_20150622_105803_cell_111.png\n",
      "/kaggle/input/malaria-detection-dataset/Dataset/Test/Parasite/C39P4thinF_original_IMG_20150622_110115_cell_126.png\n",
      "/kaggle/input/malaria-detection-dataset/Dataset/Test/Parasite/C39P4thinF_original_IMG_20150622_110115_cell_113.png\n",
      "/kaggle/input/malaria-detection-dataset/Dataset/Test/Parasite/C39P4thinF_original_IMG_20150622_110115_cell_129.png\n",
      "/kaggle/input/malaria-detection-dataset/Dataset/Test/Parasite/C39P4thinF_original_IMG_20150622_110115_cell_115.png\n",
      "/kaggle/input/malaria-detection-dataset/Dataset/Test/Parasite/C39P4thinF_original_IMG_20150622_105554_cell_25.png\n",
      "/kaggle/input/malaria-detection-dataset/Dataset/Test/Parasite/C39P4thinF_original_IMG_20150622_110115_cell_120.png\n",
      "/kaggle/input/malaria-detection-dataset/Dataset/Test/Parasite/C39P4thinF_original_IMG_20150622_105803_cell_96.png\n",
      "/kaggle/input/malaria-detection-dataset/Dataset/Test/Parasite/C39P4thinF_original_IMG_20150622_105554_cell_12.png\n",
      "/kaggle/input/malaria-detection-dataset/Dataset/Test/Parasite/C39P4thinF_original_IMG_20150622_110352_cell_79.png\n",
      "/kaggle/input/malaria-detection-dataset/Dataset/Test/Parasite/C39P4thinF_original_IMG_20150622_105554_cell_14.png\n",
      "/kaggle/input/malaria-detection-dataset/Dataset/Test/Parasite/C39P4thinF_original_IMG_20150622_105554_cell_16.png\n",
      "/kaggle/input/malaria-detection-dataset/Dataset/Test/Parasite/C39P4thinF_original_IMG_20150622_105803_cell_98.png\n",
      "/kaggle/input/malaria-detection-dataset/Dataset/Test/Parasite/C39P4thinF_original_IMG_20150622_105803_cell_87.png\n",
      "/kaggle/input/malaria-detection-dataset/Dataset/Test/Parasite/C39P4thinF_original_IMG_20150622_110115_cell_138.png\n",
      "/kaggle/input/malaria-detection-dataset/Dataset/Test/Parasite/C39P4thinF_original_IMG_20150622_110115_cell_132.png\n",
      "/kaggle/input/malaria-detection-dataset/Dataset/Test/Parasite/C39P4thinF_original_IMG_20150622_110115_cell_136.png\n",
      "/kaggle/input/malaria-detection-dataset/Dataset/Test/Parasite/C39P4thinF_original_IMG_20150622_105803_cell_93.png\n",
      "/kaggle/input/malaria-detection-dataset/Dataset/Test/Parasite/C39P4thinF_original_IMG_20150622_105803_cell_90.png\n",
      "/kaggle/input/malaria-detection-dataset/Dataset/Test/Parasite/C39P4thinF_original_IMG_20150622_110115_cell_106.png\n",
      "/kaggle/input/malaria-detection-dataset/Dataset/Test/Parasite/C39P4thinF_original_IMG_20150622_105803_cell_89.png\n",
      "/kaggle/input/malaria-detection-dataset/Dataset/Test/Parasite/C39P4thinF_original_IMG_20150622_105803_cell_99.png\n",
      "/kaggle/input/malaria-detection-dataset/Dataset/Test/Parasite/C39P4thinF_original_IMG_20150622_110115_cell_114.png\n",
      "/kaggle/input/malaria-detection-dataset/Dataset/Test/Parasite/C39P4thinF_original_IMG_20150622_105803_cell_84.png\n",
      "/kaggle/input/malaria-detection-dataset/Dataset/Test/Parasite/C39P4thinF_original_IMG_20150622_110115_cell_127.png\n",
      "/kaggle/input/malaria-detection-dataset/Dataset/Test/Parasite/C39P4thinF_original_IMG_20150622_110115_cell_131.png\n",
      "/kaggle/input/malaria-detection-dataset/Dataset/Test/Parasite/C39P4thinF_original_IMG_20150622_110115_cell_110.png\n",
      "/kaggle/input/malaria-detection-dataset/Dataset/Test/Parasite/C39P4thinF_original_IMG_20150622_110115_cell_121.png\n",
      "/kaggle/input/malaria-detection-dataset/Dataset/Test/Parasite/C39P4thinF_original_IMG_20150622_105803_cell_94.png\n",
      "/kaggle/input/malaria-detection-dataset/Dataset/Test/Parasite/C39P4thinF_original_IMG_20150622_110115_cell_104.png\n",
      "/kaggle/input/malaria-detection-dataset/Dataset/Test/Parasite/C39P4thinF_original_IMG_20150622_105803_cell_101.png\n",
      "/kaggle/input/malaria-detection-dataset/Dataset/Test/Parasite/C39P4thinF_original_IMG_20150622_110115_cell_125.png\n",
      "/kaggle/input/malaria-detection-dataset/Dataset/Test/Parasite/C39P4thinF_original_IMG_20150622_105554_cell_21.png\n",
      "/kaggle/input/malaria-detection-dataset/Dataset/Test/Parasite/C39P4thinF_original_IMG_20150622_105803_cell_78.png\n",
      "/kaggle/input/malaria-detection-dataset/Dataset/Test/Parasite/C39P4thinF_original_IMG_20150622_105803_cell_97.png\n",
      "/kaggle/input/malaria-detection-dataset/Dataset/Test/Parasite/C39P4thinF_original_IMG_20150622_110115_cell_116.png\n",
      "/kaggle/input/malaria-detection-dataset/Dataset/Test/Parasite/C39P4thinF_original_IMG_20150622_105803_cell_110.png\n",
      "/kaggle/input/malaria-detection-dataset/Dataset/Test/Parasite/C39P4thinF_original_IMG_20150622_105554_cell_13.png\n",
      "/kaggle/input/malaria-detection-dataset/Dataset/Test/Parasite/C39P4thinF_original_IMG_20150622_105803_cell_106.png\n",
      "/kaggle/input/malaria-detection-dataset/Dataset/Test/Parasite/C39P4thinF_original_IMG_20150622_105554_cell_23.png\n",
      "/kaggle/input/malaria-detection-dataset/Dataset/Test/Parasite/C39P4thinF_original_IMG_20150622_105803_cell_107.png\n",
      "/kaggle/input/malaria-detection-dataset/Dataset/Train/Uninfected/C241NThinF_IMG_20151207_124643_cell_136.png\n",
      "/kaggle/input/malaria-detection-dataset/Dataset/Train/Uninfected/C3thin_original_IMG_20150608_163029_cell_57.png\n",
      "/kaggle/input/malaria-detection-dataset/Dataset/Train/Uninfected/C1_thinF_IMG_20150604_104919_cell_189.png\n",
      "/kaggle/input/malaria-detection-dataset/Dataset/Train/Uninfected/C1_thinF_IMG_20150604_104722_cell_191.png\n",
      "/kaggle/input/malaria-detection-dataset/Dataset/Train/Uninfected/C2NThinF_IMG_20150604_114730_cell_173.png\n",
      "/kaggle/input/malaria-detection-dataset/Dataset/Train/Uninfected/C241NThinF_IMG_20151207_124358_cell_130.png\n",
      "/kaggle/input/malaria-detection-dataset/Dataset/Train/Uninfected/C1_thinF_IMG_20150604_104942_cell_4.png\n",
      "/kaggle/input/malaria-detection-dataset/Dataset/Train/Uninfected/C1_thinF_IMG_20150604_105100_cell_53.png\n",
      "/kaggle/input/malaria-detection-dataset/Dataset/Train/Uninfected/C1_thinF_IMG_20150604_104919_cell_199.png\n",
      "/kaggle/input/malaria-detection-dataset/Dataset/Train/Uninfected/C2NThinF_IMG_20150604_114631_cell_214.png\n",
      "/kaggle/input/malaria-detection-dataset/Dataset/Train/Uninfected/C2NThinF_IMG_20150604_114815_cell_217.png\n",
      "/kaggle/input/malaria-detection-dataset/Dataset/Train/Uninfected/C1_thinF_IMG_20150604_105100_cell_201.png\n",
      "/kaggle/input/malaria-detection-dataset/Dataset/Train/Uninfected/C2NThinF_IMG_20150604_115238_cell_13.png\n",
      "/kaggle/input/malaria-detection-dataset/Dataset/Train/Uninfected/C2NThinF_IMG_20150604_114631_cell_84.png\n",
      "/kaggle/input/malaria-detection-dataset/Dataset/Train/Uninfected/C1_thinF_IMG_20150604_105100_cell_152.png\n",
      "/kaggle/input/malaria-detection-dataset/Dataset/Train/Uninfected/C4thin_original_IMG_20150608_165540_cell_52.png\n",
      "/kaggle/input/malaria-detection-dataset/Dataset/Train/Uninfected/C1_thinF_IMG_20150604_104722_cell_15.png\n",
      "/kaggle/input/malaria-detection-dataset/Dataset/Train/Uninfected/C2NThinF_IMG_20150604_114730_cell_161.png\n",
      "/kaggle/input/malaria-detection-dataset/Dataset/Train/Uninfected/C1_thinF_IMG_20150604_104942_cell_102.png\n",
      "/kaggle/input/malaria-detection-dataset/Dataset/Train/Uninfected/C2NThinF_IMG_20150604_114815_cell_6.png\n",
      "/kaggle/input/malaria-detection-dataset/Dataset/Train/Uninfected/C3thin_original_IMG_20150608_163002_cell_159.png\n",
      "/kaggle/input/malaria-detection-dataset/Dataset/Train/Uninfected/C4thin_original_IMG_20150608_165540_cell_19.png\n",
      "/kaggle/input/malaria-detection-dataset/Dataset/Train/Uninfected/C1_thinF_IMG_20150604_104919_cell_164.png\n",
      "/kaggle/input/malaria-detection-dataset/Dataset/Train/Uninfected/C4thin_original_IMG_20150608_165540_cell_50.png\n",
      "/kaggle/input/malaria-detection-dataset/Dataset/Train/Uninfected/C2NThinF_IMG_20150604_114631_cell_150.png\n",
      "/kaggle/input/malaria-detection-dataset/Dataset/Train/Uninfected/C241NThinF_IMG_20151207_124358_cell_82.png\n",
      "/kaggle/input/malaria-detection-dataset/Dataset/Train/Uninfected/C2NThinF_IMG_20150604_114730_cell_183.png\n",
      "/kaggle/input/malaria-detection-dataset/Dataset/Train/Uninfected/C1_thinF_IMG_20150604_105100_cell_43.png\n",
      "/kaggle/input/malaria-detection-dataset/Dataset/Train/Uninfected/C241NThinF_IMG_20151207_124608_cell_30.png\n",
      "/kaggle/input/malaria-detection-dataset/Dataset/Train/Uninfected/C1_thinF_IMG_20150604_104942_cell_59.png\n",
      "/kaggle/input/malaria-detection-dataset/Dataset/Train/Uninfected/C3thin_original_IMG_20150608_163047_cell_192.png\n",
      "/kaggle/input/malaria-detection-dataset/Dataset/Train/Uninfected/C3thin_original_IMG_20150608_163047_cell_22.png\n",
      "/kaggle/input/malaria-detection-dataset/Dataset/Train/Uninfected/C241NThinF_IMG_20151207_124643_cell_26.png\n",
      "/kaggle/input/malaria-detection-dataset/Dataset/Train/Uninfected/C3thin_original_IMG_20150608_163047_cell_36.png\n",
      "/kaggle/input/malaria-detection-dataset/Dataset/Train/Uninfected/C1_thinF_IMG_20150604_104919_cell_96.png\n",
      "/kaggle/input/malaria-detection-dataset/Dataset/Train/Uninfected/C241NThinF_IMG_20151207_124358_cell_149.png\n",
      "/kaggle/input/malaria-detection-dataset/Dataset/Train/Uninfected/C1_thinF_IMG_20150604_104919_cell_82.png\n",
      "/kaggle/input/malaria-detection-dataset/Dataset/Train/Uninfected/C241NThinF_IMG_20151207_124643_cell_45.png\n",
      "/kaggle/input/malaria-detection-dataset/Dataset/Train/Uninfected/C2NThinF_IMG_20150604_115238_cell_115.png\n",
      "/kaggle/input/malaria-detection-dataset/Dataset/Train/Uninfected/C1_thinF_IMG_20150604_104919_cell_240.png\n",
      "/kaggle/input/malaria-detection-dataset/Dataset/Train/Uninfected/C2NThinF_IMG_20150604_114730_cell_139.png\n",
      "/kaggle/input/malaria-detection-dataset/Dataset/Train/Uninfected/C2NThinF_IMG_20150604_114815_cell_9.png\n",
      "/kaggle/input/malaria-detection-dataset/Dataset/Train/Uninfected/C241NThinF_IMG_20151207_124608_cell_90.png\n",
      "/kaggle/input/malaria-detection-dataset/Dataset/Train/Uninfected/C3thin_original_IMG_20150608_163029_cell_125.png\n",
      "/kaggle/input/malaria-detection-dataset/Dataset/Train/Uninfected/C3thin_original_IMG_20150608_163047_cell_236.png\n",
      "/kaggle/input/malaria-detection-dataset/Dataset/Train/Uninfected/C1_thinF_IMG_20150604_105100_cell_211.png\n",
      "/kaggle/input/malaria-detection-dataset/Dataset/Train/Uninfected/C2NThinF_IMG_20150604_114815_cell_62.png\n",
      "/kaggle/input/malaria-detection-dataset/Dataset/Train/Uninfected/C241NThinF_IMG_20151207_124240_cell_169.png\n",
      "/kaggle/input/malaria-detection-dataset/Dataset/Train/Uninfected/C1_thinF_IMG_20150604_104942_cell_154.png\n",
      "/kaggle/input/malaria-detection-dataset/Dataset/Train/Uninfected/C1_thinF_IMG_20150604_104919_cell_86.png\n",
      "/kaggle/input/malaria-detection-dataset/Dataset/Train/Uninfected/C2NThinF_IMG_20150604_114631_cell_204.png\n",
      "/kaggle/input/malaria-detection-dataset/Dataset/Train/Uninfected/C2NThinF_IMG_20150604_114631_cell_187.png\n",
      "/kaggle/input/malaria-detection-dataset/Dataset/Train/Uninfected/C1_thinF_IMG_20150604_104942_cell_72.png\n",
      "/kaggle/input/malaria-detection-dataset/Dataset/Train/Uninfected/C2NThinF_IMG_20150604_114751_cell_113.png\n",
      "/kaggle/input/malaria-detection-dataset/Dataset/Train/Uninfected/C3thin_original_IMG_20150608_163029_cell_121.png\n",
      "/kaggle/input/malaria-detection-dataset/Dataset/Train/Uninfected/C2NThinF_IMG_20150604_114730_cell_98.png\n",
      "/kaggle/input/malaria-detection-dataset/Dataset/Train/Uninfected/C1_thinF_IMG_20150604_105100_cell_277.png\n",
      "/kaggle/input/malaria-detection-dataset/Dataset/Train/Uninfected/C2NThinF_IMG_20150604_114751_cell_106.png\n",
      "/kaggle/input/malaria-detection-dataset/Dataset/Train/Uninfected/C3thin_original_IMG_20150608_163047_cell_26.png\n",
      "/kaggle/input/malaria-detection-dataset/Dataset/Train/Uninfected/C2NThinF_IMG_20150604_114631_cell_99.png\n",
      "/kaggle/input/malaria-detection-dataset/Dataset/Train/Uninfected/C2NThinF_IMG_20150604_114751_cell_142.png\n",
      "/kaggle/input/malaria-detection-dataset/Dataset/Train/Uninfected/C2NThinF_IMG_20150604_114730_cell_178.png\n",
      "/kaggle/input/malaria-detection-dataset/Dataset/Train/Uninfected/C241NThinF_IMG_20151207_124643_cell_25.png\n",
      "/kaggle/input/malaria-detection-dataset/Dataset/Train/Uninfected/C3thin_original_IMG_20150608_163047_cell_161.png\n",
      "/kaggle/input/malaria-detection-dataset/Dataset/Train/Uninfected/C3thin_original_IMG_20150608_163047_cell_145.png\n",
      "/kaggle/input/malaria-detection-dataset/Dataset/Train/Uninfected/C241NThinF_IMG_20151207_124643_cell_96.png\n",
      "/kaggle/input/malaria-detection-dataset/Dataset/Train/Uninfected/C2NThinF_IMG_20150604_114815_cell_233.png\n",
      "/kaggle/input/malaria-detection-dataset/Dataset/Train/Uninfected/C2NThinF_IMG_20150604_114730_cell_36.png\n",
      "/kaggle/input/malaria-detection-dataset/Dataset/Train/Uninfected/C1_thinF_IMG_20150604_104722_cell_231.png\n",
      "/kaggle/input/malaria-detection-dataset/Dataset/Train/Uninfected/C1_thinF_IMG_20150604_104722_cell_66.png\n",
      "/kaggle/input/malaria-detection-dataset/Dataset/Train/Uninfected/C1_thinF_IMG_20150604_105100_cell_180.png\n",
      "/kaggle/input/malaria-detection-dataset/Dataset/Train/Uninfected/C1_thinF_IMG_20150604_104722_cell_248.png\n",
      "/kaggle/input/malaria-detection-dataset/Dataset/Train/Uninfected/C3thin_original_IMG_20150608_163029_cell_166.png\n",
      "/kaggle/input/malaria-detection-dataset/Dataset/Train/Uninfected/C3thin_original_IMG_20150608_163029_cell_202.png\n",
      "/kaggle/input/malaria-detection-dataset/Dataset/Train/Uninfected/C1_thinF_IMG_20150604_105100_cell_157.png\n",
      "/kaggle/input/malaria-detection-dataset/Dataset/Train/Uninfected/C1_thinF_IMG_20150604_104942_cell_20.png\n",
      "/kaggle/input/malaria-detection-dataset/Dataset/Train/Uninfected/C1_thinF_IMG_20150604_105100_cell_151.png\n",
      "/kaggle/input/malaria-detection-dataset/Dataset/Train/Uninfected/C2NThinF_IMG_20150604_114815_cell_73.png\n",
      "/kaggle/input/malaria-detection-dataset/Dataset/Train/Uninfected/C241NThinF_IMG_20151207_124608_cell_104.png\n",
      "/kaggle/input/malaria-detection-dataset/Dataset/Train/Uninfected/C2NThinF_IMG_20150604_114815_cell_128.png\n",
      "/kaggle/input/malaria-detection-dataset/Dataset/Train/Uninfected/C1_thinF_IMG_20150604_104722_cell_79.png\n",
      "/kaggle/input/malaria-detection-dataset/Dataset/Train/Uninfected/C1_thinF_IMG_20150604_104722_cell_115.png\n",
      "/kaggle/input/malaria-detection-dataset/Dataset/Train/Uninfected/C1_thinF_IMG_20150604_104722_cell_164.png\n",
      "/kaggle/input/malaria-detection-dataset/Dataset/Train/Uninfected/C241NThinF_IMG_20151207_124358_cell_73.png\n",
      "/kaggle/input/malaria-detection-dataset/Dataset/Train/Uninfected/C1_thinF_IMG_20150604_104942_cell_139.png\n",
      "/kaggle/input/malaria-detection-dataset/Dataset/Train/Uninfected/C241NThinF_IMG_20151207_124358_cell_84.png\n",
      "/kaggle/input/malaria-detection-dataset/Dataset/Train/Uninfected/C2NThinF_IMG_20150604_114751_cell_127.png\n",
      "/kaggle/input/malaria-detection-dataset/Dataset/Train/Uninfected/C241NThinF_IMG_20151207_124358_cell_35.png\n",
      "/kaggle/input/malaria-detection-dataset/Dataset/Train/Uninfected/C1_thinF_IMG_20150604_104919_cell_183.png\n",
      "/kaggle/input/malaria-detection-dataset/Dataset/Train/Uninfected/C2NThinF_IMG_20150604_114751_cell_197.png\n",
      "/kaggle/input/malaria-detection-dataset/Dataset/Train/Uninfected/C241NThinF_IMG_20151207_124608_cell_61.png\n",
      "/kaggle/input/malaria-detection-dataset/Dataset/Train/Uninfected/C241NThinF_IMG_20151207_124358_cell_137.png\n",
      "/kaggle/input/malaria-detection-dataset/Dataset/Train/Uninfected/C2NThinF_IMG_20150604_114751_cell_217.png\n",
      "/kaggle/input/malaria-detection-dataset/Dataset/Train/Uninfected/C3thin_original_IMG_20150608_163029_cell_156.png\n",
      "/kaggle/input/malaria-detection-dataset/Dataset/Train/Uninfected/C1_thinF_IMG_20150604_104919_cell_84.png\n",
      "/kaggle/input/malaria-detection-dataset/Dataset/Train/Uninfected/C3thin_original_IMG_20150608_163047_cell_168.png\n",
      "/kaggle/input/malaria-detection-dataset/Dataset/Train/Uninfected/C3thin_original_IMG_20150608_163029_cell_186.png\n",
      "/kaggle/input/malaria-detection-dataset/Dataset/Train/Uninfected/C2NThinF_IMG_20150604_114730_cell_124.png\n",
      "/kaggle/input/malaria-detection-dataset/Dataset/Train/Uninfected/C3thin_original_IMG_20150608_163029_cell_80.png\n",
      "/kaggle/input/malaria-detection-dataset/Dataset/Train/Uninfected/C1_thinF_IMG_20150604_104722_cell_242.png\n",
      "/kaggle/input/malaria-detection-dataset/Dataset/Train/Uninfected/C1_thinF_IMG_20150604_104942_cell_185.png\n",
      "/kaggle/input/malaria-detection-dataset/Dataset/Train/Uninfected/C3thin_original_IMG_20150608_163047_cell_103.png\n",
      "/kaggle/input/malaria-detection-dataset/Dataset/Train/Uninfected/C1_thinF_IMG_20150604_105100_cell_130.png\n",
      "/kaggle/input/malaria-detection-dataset/Dataset/Train/Uninfected/C2NThinF_IMG_20150604_114815_cell_95.png\n",
      "/kaggle/input/malaria-detection-dataset/Dataset/Train/Uninfected/C3thin_original_IMG_20150608_163002_cell_195.png\n",
      "/kaggle/input/malaria-detection-dataset/Dataset/Train/Uninfected/C1_thinF_IMG_20150604_104942_cell_151.png\n",
      "/kaggle/input/malaria-detection-dataset/Dataset/Train/Uninfected/C2NThinF_IMG_20150604_114815_cell_242.png\n",
      "/kaggle/input/malaria-detection-dataset/Dataset/Train/Uninfected/C2NThinF_IMG_20150604_115238_cell_117.png\n",
      "/kaggle/input/malaria-detection-dataset/Dataset/Train/Uninfected/C241NThinF_IMG_20151207_124358_cell_144.png\n",
      "/kaggle/input/malaria-detection-dataset/Dataset/Train/Uninfected/C2NThinF_IMG_20150604_115238_cell_138.png\n",
      "/kaggle/input/malaria-detection-dataset/Dataset/Train/Uninfected/C241NThinF_IMG_20151207_124643_cell_158.png\n",
      "/kaggle/input/malaria-detection-dataset/Dataset/Train/Uninfected/C241NThinF_IMG_20151207_124643_cell_46.png\n",
      "/kaggle/input/malaria-detection-dataset/Dataset/Train/Uninfected/C2NThinF_IMG_20150604_114751_cell_181.png\n",
      "/kaggle/input/malaria-detection-dataset/Dataset/Train/Uninfected/C1_thinF_IMG_20150604_104942_cell_156.png\n",
      "/kaggle/input/malaria-detection-dataset/Dataset/Train/Uninfected/C1_thinF_IMG_20150604_104722_cell_81.png\n",
      "/kaggle/input/malaria-detection-dataset/Dataset/Train/Uninfected/C1_thinF_IMG_20150604_104722_cell_73.png\n",
      "/kaggle/input/malaria-detection-dataset/Dataset/Train/Uninfected/C2NThinF_IMG_20150604_114631_cell_155.png\n",
      "/kaggle/input/malaria-detection-dataset/Dataset/Train/Uninfected/C3thin_original_IMG_20150608_163029_cell_220.png\n",
      "/kaggle/input/malaria-detection-dataset/Dataset/Train/Uninfected/C1_thinF_IMG_20150604_104722_cell_211.png\n",
      "/kaggle/input/malaria-detection-dataset/Dataset/Train/Uninfected/C2NThinF_IMG_20150604_114751_cell_38.png\n",
      "/kaggle/input/malaria-detection-dataset/Dataset/Train/Uninfected/C241NThinF_IMG_20151207_124608_cell_125.png\n",
      "/kaggle/input/malaria-detection-dataset/Dataset/Train/Uninfected/C1_thinF_IMG_20150604_104919_cell_173.png\n",
      "/kaggle/input/malaria-detection-dataset/Dataset/Train/Uninfected/C1_thinF_IMG_20150604_104942_cell_168.png\n",
      "/kaggle/input/malaria-detection-dataset/Dataset/Train/Uninfected/C3thin_original_IMG_20150608_163047_cell_147.png\n",
      "/kaggle/input/malaria-detection-dataset/Dataset/Train/Uninfected/C1_thinF_IMG_20150604_104919_cell_178.png\n",
      "/kaggle/input/malaria-detection-dataset/Dataset/Train/Uninfected/C3thin_original_IMG_20150608_163029_cell_52.png\n",
      "/kaggle/input/malaria-detection-dataset/Dataset/Train/Uninfected/C241NThinF_IMG_20151207_124608_cell_51.png\n",
      "/kaggle/input/malaria-detection-dataset/Dataset/Train/Uninfected/C2NThinF_IMG_20150604_114815_cell_235.png\n",
      "/kaggle/input/malaria-detection-dataset/Dataset/Train/Uninfected/C2NThinF_IMG_20150604_114631_cell_74.png\n",
      "/kaggle/input/malaria-detection-dataset/Dataset/Train/Uninfected/C1_thinF_IMG_20150604_104942_cell_269.png\n",
      "/kaggle/input/malaria-detection-dataset/Dataset/Train/Uninfected/C241NThinF_IMG_20151207_124643_cell_91.png\n",
      "/kaggle/input/malaria-detection-dataset/Dataset/Train/Uninfected/C3thin_original_IMG_20150608_163029_cell_44.png\n",
      "/kaggle/input/malaria-detection-dataset/Dataset/Train/Uninfected/C1_thinF_IMG_20150604_104942_cell_203.png\n",
      "/kaggle/input/malaria-detection-dataset/Dataset/Train/Uninfected/C1_thinF_IMG_20150604_105100_cell_213.png\n",
      "/kaggle/input/malaria-detection-dataset/Dataset/Train/Uninfected/C2NThinF_IMG_20150604_114631_cell_215.png\n",
      "/kaggle/input/malaria-detection-dataset/Dataset/Train/Uninfected/C2NThinF_IMG_20150604_114751_cell_221.png\n",
      "/kaggle/input/malaria-detection-dataset/Dataset/Train/Uninfected/C241NThinF_IMG_20151207_124608_cell_22.png\n",
      "/kaggle/input/malaria-detection-dataset/Dataset/Train/Uninfected/C1_thinF_IMG_20150604_105100_cell_69.png\n",
      "/kaggle/input/malaria-detection-dataset/Dataset/Train/Uninfected/C2NThinF_IMG_20150604_115238_cell_196.png\n",
      "/kaggle/input/malaria-detection-dataset/Dataset/Train/Uninfected/C2NThinF_IMG_20150604_114815_cell_66.png\n",
      "/kaggle/input/malaria-detection-dataset/Dataset/Train/Uninfected/C2NThinF_IMG_20150604_114730_cell_13.png\n",
      "/kaggle/input/malaria-detection-dataset/Dataset/Train/Uninfected/C1_thinF_IMG_20150604_104722_cell_9.png\n",
      "/kaggle/input/malaria-detection-dataset/Dataset/Train/Uninfected/C2NThinF_IMG_20150604_114631_cell_141.png\n",
      "/kaggle/input/malaria-detection-dataset/Dataset/Train/Uninfected/C3thin_original_IMG_20150608_163047_cell_183.png\n",
      "/kaggle/input/malaria-detection-dataset/Dataset/Train/Uninfected/C2NThinF_IMG_20150604_114751_cell_101.png\n",
      "/kaggle/input/malaria-detection-dataset/Dataset/Train/Uninfected/C241NThinF_IMG_20151207_124643_cell_169.png\n",
      "/kaggle/input/malaria-detection-dataset/Dataset/Train/Uninfected/C2NThinF_IMG_20150604_114751_cell_69.png\n",
      "/kaggle/input/malaria-detection-dataset/Dataset/Train/Uninfected/C2NThinF_IMG_20150604_114815_cell_142.png\n",
      "/kaggle/input/malaria-detection-dataset/Dataset/Train/Uninfected/C1_thinF_IMG_20150604_105100_cell_186.png\n",
      "/kaggle/input/malaria-detection-dataset/Dataset/Train/Uninfected/C3thin_original_IMG_20150608_163029_cell_1.png\n",
      "/kaggle/input/malaria-detection-dataset/Dataset/Train/Uninfected/C241NThinF_IMG_20151207_124358_cell_119.png\n",
      "/kaggle/input/malaria-detection-dataset/Dataset/Train/Uninfected/C2NThinF_IMG_20150604_114730_cell_12.png\n",
      "/kaggle/input/malaria-detection-dataset/Dataset/Train/Uninfected/C1_thinF_IMG_20150604_105100_cell_275.png\n",
      "/kaggle/input/malaria-detection-dataset/Dataset/Train/Uninfected/C2NThinF_IMG_20150604_114730_cell_72.png\n",
      "/kaggle/input/malaria-detection-dataset/Dataset/Train/Uninfected/C2NThinF_IMG_20150604_114815_cell_107.png\n",
      "/kaggle/input/malaria-detection-dataset/Dataset/Train/Uninfected/C1_thinF_IMG_20150604_104942_cell_209.png\n",
      "/kaggle/input/malaria-detection-dataset/Dataset/Train/Uninfected/C1_thinF_IMG_20150604_105100_cell_232.png\n",
      "/kaggle/input/malaria-detection-dataset/Dataset/Train/Uninfected/C241NThinF_IMG_20151207_124608_cell_120.png\n",
      "/kaggle/input/malaria-detection-dataset/Dataset/Train/Uninfected/C1_thinF_IMG_20150604_104919_cell_163.png\n",
      "/kaggle/input/malaria-detection-dataset/Dataset/Train/Uninfected/C2NThinF_IMG_20150604_115238_cell_133.png\n",
      "/kaggle/input/malaria-detection-dataset/Dataset/Train/Uninfected/C1_thinF_IMG_20150604_105100_cell_243.png\n",
      "/kaggle/input/malaria-detection-dataset/Dataset/Train/Uninfected/C1_thinF_IMG_20150604_104919_cell_132.png\n",
      "/kaggle/input/malaria-detection-dataset/Dataset/Train/Uninfected/C2NThinF_IMG_20150604_114751_cell_92.png\n",
      "/kaggle/input/malaria-detection-dataset/Dataset/Train/Uninfected/C3thin_original_IMG_20150608_163029_cell_83.png\n",
      "/kaggle/input/malaria-detection-dataset/Dataset/Train/Uninfected/C1_thinF_IMG_20150604_104722_cell_123.png\n",
      "/kaggle/input/malaria-detection-dataset/Dataset/Train/Uninfected/C2NThinF_IMG_20150604_114815_cell_232.png\n",
      "/kaggle/input/malaria-detection-dataset/Dataset/Train/Uninfected/C241NThinF_IMG_20151207_124358_cell_91.png\n",
      "/kaggle/input/malaria-detection-dataset/Dataset/Train/Uninfected/C2NThinF_IMG_20150604_114631_cell_144.png\n",
      "/kaggle/input/malaria-detection-dataset/Dataset/Train/Uninfected/C2NThinF_IMG_20150604_114730_cell_172.png\n",
      "/kaggle/input/malaria-detection-dataset/Dataset/Train/Uninfected/C1_thinF_IMG_20150604_104942_cell_11.png\n",
      "/kaggle/input/malaria-detection-dataset/Dataset/Train/Uninfected/C241NThinF_IMG_20151207_124643_cell_125.png\n",
      "/kaggle/input/malaria-detection-dataset/Dataset/Train/Uninfected/C241NThinF_IMG_20151207_124608_cell_40.png\n",
      "/kaggle/input/malaria-detection-dataset/Dataset/Train/Uninfected/C1_thinF_IMG_20150604_104919_cell_123.png\n",
      "/kaggle/input/malaria-detection-dataset/Dataset/Train/Uninfected/C2NThinF_IMG_20150604_114751_cell_107.png\n",
      "/kaggle/input/malaria-detection-dataset/Dataset/Train/Uninfected/C3thin_original_IMG_20150608_163047_cell_215.png\n",
      "/kaggle/input/malaria-detection-dataset/Dataset/Train/Uninfected/C1_thinF_IMG_20150604_104942_cell_218.png\n",
      "/kaggle/input/malaria-detection-dataset/Dataset/Train/Uninfected/C1_thinF_IMG_20150604_104919_cell_224.png\n",
      "/kaggle/input/malaria-detection-dataset/Dataset/Train/Uninfected/C1_thinF_IMG_20150604_105100_cell_134.png\n",
      "/kaggle/input/malaria-detection-dataset/Dataset/Train/Uninfected/C1_thinF_IMG_20150604_104722_cell_60.png\n",
      "/kaggle/input/malaria-detection-dataset/Dataset/Train/Uninfected/C2NThinF_IMG_20150604_115238_cell_126.png\n",
      "/kaggle/input/malaria-detection-dataset/Dataset/Train/Uninfected/C241NThinF_IMG_20151207_124608_cell_171.png\n",
      "/kaggle/input/malaria-detection-dataset/Dataset/Train/Uninfected/C3thin_original_IMG_20150608_163047_cell_212.png\n",
      "/kaggle/input/malaria-detection-dataset/Dataset/Train/Uninfected/C2NThinF_IMG_20150604_114631_cell_38.png\n",
      "/kaggle/input/malaria-detection-dataset/Dataset/Train/Uninfected/C1_thinF_IMG_20150604_104942_cell_152.png\n",
      "/kaggle/input/malaria-detection-dataset/Dataset/Train/Uninfected/C2NThinF_IMG_20150604_114631_cell_72.png\n",
      "/kaggle/input/malaria-detection-dataset/Dataset/Train/Uninfected/C1_thinF_IMG_20150604_104919_cell_157.png\n",
      "/kaggle/input/malaria-detection-dataset/Dataset/Train/Uninfected/C3thin_original_IMG_20150608_163029_cell_109.png\n",
      "/kaggle/input/malaria-detection-dataset/Dataset/Train/Uninfected/C2NThinF_IMG_20150604_114751_cell_93.png\n",
      "/kaggle/input/malaria-detection-dataset/Dataset/Train/Uninfected/C3thin_original_IMG_20150608_163047_cell_214.png\n",
      "/kaggle/input/malaria-detection-dataset/Dataset/Train/Uninfected/C1_thinF_IMG_20150604_104722_cell_143.png\n",
      "/kaggle/input/malaria-detection-dataset/Dataset/Train/Uninfected/C1_thinF_IMG_20150604_104942_cell_98.png\n",
      "/kaggle/input/malaria-detection-dataset/Dataset/Train/Uninfected/C1_thinF_IMG_20150604_104919_cell_134.png\n",
      "/kaggle/input/malaria-detection-dataset/Dataset/Train/Uninfected/C2NThinF_IMG_20150604_114730_cell_113.png\n",
      "/kaggle/input/malaria-detection-dataset/Dataset/Train/Uninfected/C2NThinF_IMG_20150604_114631_cell_52.png\n",
      "/kaggle/input/malaria-detection-dataset/Dataset/Train/Uninfected/C1_thinF_IMG_20150604_104722_cell_216.png\n",
      "/kaggle/input/malaria-detection-dataset/Dataset/Train/Uninfected/C1_thinF_IMG_20150604_104919_cell_31.png\n",
      "/kaggle/input/malaria-detection-dataset/Dataset/Train/Parasite/C39P4thinF_original_IMG_20150622_105335_cell_10.png\n",
      "/kaggle/input/malaria-detection-dataset/Dataset/Train/Parasite/C39P4thinF_original_IMG_20150622_105335_cell_22.png\n",
      "/kaggle/input/malaria-detection-dataset/Dataset/Train/Parasite/C133P94ThinF_IMG_20151004_155721_cell_115.png\n",
      "/kaggle/input/malaria-detection-dataset/Dataset/Train/Parasite/C39P4thinF_original_IMG_20150622_105335_cell_6.png\n",
      "/kaggle/input/malaria-detection-dataset/Dataset/Train/Parasite/C134P95ThinF_IMG_20151005_121554_cell_122.png\n",
      "/kaggle/input/malaria-detection-dataset/Dataset/Train/Parasite/C33P1thinF_IMG_20150619_115808a_cell_206.png\n",
      "/kaggle/input/malaria-detection-dataset/Dataset/Train/Parasite/C189P150ThinF_IMG_20151203_142224_cell_88.png\n",
      "/kaggle/input/malaria-detection-dataset/Dataset/Train/Parasite/C133P94ThinF_IMG_20151004_155721_cell_121.png\n",
      "/kaggle/input/malaria-detection-dataset/Dataset/Train/Parasite/C133P94ThinF_IMG_20151004_155912_cell_9.png\n",
      "/kaggle/input/malaria-detection-dataset/Dataset/Train/Parasite/C33P1thinF_IMG_20150619_114756a_cell_181.png\n",
      "/kaggle/input/malaria-detection-dataset/Dataset/Train/Parasite/C133P94ThinF_IMG_20151004_155721_cell_111.png\n",
      "/kaggle/input/malaria-detection-dataset/Dataset/Train/Parasite/C39P4thinF_original_IMG_20150622_105102_cell_100.png\n",
      "/kaggle/input/malaria-detection-dataset/Dataset/Train/Parasite/C33P1thinF_IMG_20150619_114756a_cell_182.png\n",
      "/kaggle/input/malaria-detection-dataset/Dataset/Train/Parasite/C134P95ThinF_IMG_20151005_122552_cell_123.png\n",
      "/kaggle/input/malaria-detection-dataset/Dataset/Train/Parasite/C134P95ThinF_IMG_20151005_121952_cell_120.png\n",
      "/kaggle/input/malaria-detection-dataset/Dataset/Train/Parasite/C33P1thinF_IMG_20150619_121229a_cell_178.png\n",
      "/kaggle/input/malaria-detection-dataset/Dataset/Train/Parasite/C37BP2_thinF_IMG_20150620_132847a_cell_77.png\n",
      "/kaggle/input/malaria-detection-dataset/Dataset/Train/Parasite/C39P4thinF_original_IMG_20150622_105102_cell_96.png\n",
      "/kaggle/input/malaria-detection-dataset/Dataset/Train/Parasite/C39P4thinF_original_IMG_20150622_105253_cell_99.png\n",
      "/kaggle/input/malaria-detection-dataset/Dataset/Train/Parasite/C33P1thinF_IMG_20150619_114756a_cell_180.png\n",
      "/kaggle/input/malaria-detection-dataset/Dataset/Train/Parasite/C33P1thinF_IMG_20150619_115740a_cell_163.png\n",
      "/kaggle/input/malaria-detection-dataset/Dataset/Train/Parasite/C189P150ThinF_IMG_20151203_142224_cell_84.png\n",
      "/kaggle/input/malaria-detection-dataset/Dataset/Train/Parasite/C38P3thinF_original_IMG_20150621_112116_cell_204.png\n",
      "/kaggle/input/malaria-detection-dataset/Dataset/Train/Parasite/C133P94ThinF_IMG_20151004_155912_cell_7.png\n",
      "/kaggle/input/malaria-detection-dataset/Dataset/Train/Parasite/C133P94ThinF_IMG_20151004_155721_cell_119.png\n",
      "/kaggle/input/malaria-detection-dataset/Dataset/Train/Parasite/C37BP2_thinF_IMG_20150620_133205a_cell_87.png\n",
      "/kaggle/input/malaria-detection-dataset/Dataset/Train/Parasite/C189P150ThinF_IMG_20151203_142224_cell_89.png\n",
      "/kaggle/input/malaria-detection-dataset/Dataset/Train/Parasite/C33P1thinF_IMG_20150619_120645a_cell_216.png\n",
      "/kaggle/input/malaria-detection-dataset/Dataset/Train/Parasite/C39P4thinF_original_IMG_20150622_105102_cell_97.png\n",
      "/kaggle/input/malaria-detection-dataset/Dataset/Train/Parasite/C134P95ThinF_IMG_20151005_122552_cell_120.png\n",
      "/kaggle/input/malaria-detection-dataset/Dataset/Train/Parasite/C189P150ThinF_IMG_20151203_142224_cell_91.png\n",
      "/kaggle/input/malaria-detection-dataset/Dataset/Train/Parasite/C39P4thinF_original_IMG_20150622_105335_cell_21.png\n",
      "/kaggle/input/malaria-detection-dataset/Dataset/Train/Parasite/C33P1thinF_IMG_20150619_121503a_cell_159.png\n",
      "/kaggle/input/malaria-detection-dataset/Dataset/Train/Parasite/C39P4thinF_original_IMG_20150622_105253_cell_109.png\n",
      "/kaggle/input/malaria-detection-dataset/Dataset/Train/Parasite/C39P4thinF_original_IMG_20150622_105253_cell_101.png\n",
      "/kaggle/input/malaria-detection-dataset/Dataset/Train/Parasite/C39P4thinF_original_IMG_20150622_105335_cell_26.png\n",
      "/kaggle/input/malaria-detection-dataset/Dataset/Train/Parasite/C33P1thinF_IMG_20150619_121102a_cell_193.png\n",
      "/kaggle/input/malaria-detection-dataset/Dataset/Train/Parasite/C39P4thinF_original_IMG_20150622_105253_cell_111.png\n",
      "/kaggle/input/malaria-detection-dataset/Dataset/Train/Parasite/C189P150ThinF_IMG_20151203_142224_cell_97.png\n",
      "/kaggle/input/malaria-detection-dataset/Dataset/Train/Parasite/C133P94ThinF_IMG_20151004_155912_cell_18.png\n",
      "/kaggle/input/malaria-detection-dataset/Dataset/Train/Parasite/C39P4thinF_original_IMG_20150622_105335_cell_9.png\n",
      "/kaggle/input/malaria-detection-dataset/Dataset/Train/Parasite/C39P4thinF_original_IMG_20150622_105335_cell_30.png\n",
      "/kaggle/input/malaria-detection-dataset/Dataset/Train/Parasite/C37BP2_thinF_IMG_20150620_131423a_cell_93.png\n",
      "/kaggle/input/malaria-detection-dataset/Dataset/Train/Parasite/C39P4thinF_original_IMG_20150622_105253_cell_110.png\n",
      "/kaggle/input/malaria-detection-dataset/Dataset/Train/Parasite/C39P4thinF_original_IMG_20150622_105335_cell_17.png\n",
      "/kaggle/input/malaria-detection-dataset/Dataset/Train/Parasite/C39P4thinF_original_IMG_20150622_105554_cell_2.png\n",
      "/kaggle/input/malaria-detection-dataset/Dataset/Train/Parasite/C39P4thinF_original_IMG_20150622_105102_cell_91.png\n",
      "/kaggle/input/malaria-detection-dataset/Dataset/Train/Parasite/C189P150ThinF_IMG_20151203_142224_cell_85.png\n",
      "/kaggle/input/malaria-detection-dataset/Dataset/Train/Parasite/C134P95ThinF_IMG_20151005_121834_cell_120.png\n",
      "/kaggle/input/malaria-detection-dataset/Dataset/Train/Parasite/C39P4thinF_original_IMG_20150622_105335_cell_16.png\n",
      "/kaggle/input/malaria-detection-dataset/Dataset/Train/Parasite/C189P150ThinF_IMG_20151203_142224_cell_80.png\n",
      "/kaggle/input/malaria-detection-dataset/Dataset/Train/Parasite/C37BP2_thinF_IMG_20150620_133205a_cell_88.png\n",
      "/kaggle/input/malaria-detection-dataset/Dataset/Train/Parasite/C134P95ThinF_IMG_20151005_122331_cell_102.png\n",
      "/kaggle/input/malaria-detection-dataset/Dataset/Train/Parasite/C39P4thinF_original_IMG_20150622_105253_cell_93.png\n",
      "/kaggle/input/malaria-detection-dataset/Dataset/Train/Parasite/C33P1thinF_IMG_20150619_121229a_cell_177.png\n",
      "/kaggle/input/malaria-detection-dataset/Dataset/Train/Parasite/C39P4thinF_original_IMG_20150622_105335_cell_15.png\n",
      "/kaggle/input/malaria-detection-dataset/Dataset/Train/Parasite/C33P1thinF_IMG_20150619_120645a_cell_217.png\n",
      "/kaggle/input/malaria-detection-dataset/Dataset/Train/Parasite/C134P95ThinF_IMG_20151005_121048_cell_113.png\n",
      "/kaggle/input/malaria-detection-dataset/Dataset/Train/Parasite/C39P4thinF_original_IMG_20150622_105253_cell_100.png\n",
      "/kaggle/input/malaria-detection-dataset/Dataset/Train/Parasite/C134P95ThinF_IMG_20151005_121343_cell_123.png\n",
      "/kaggle/input/malaria-detection-dataset/Dataset/Train/Parasite/C39P4thinF_original_IMG_20150622_105102_cell_82.png\n",
      "/kaggle/input/malaria-detection-dataset/Dataset/Train/Parasite/C39P4thinF_original_IMG_20150622_105102_cell_94.png\n",
      "/kaggle/input/malaria-detection-dataset/Dataset/Train/Parasite/C133P94ThinF_IMG_20151004_155912_cell_2.png\n",
      "/kaggle/input/malaria-detection-dataset/Dataset/Train/Parasite/C37BP2_thinF_IMG_20150620_132847a_cell_76.png\n",
      "/kaggle/input/malaria-detection-dataset/Dataset/Train/Parasite/C133P94ThinF_IMG_20151004_155721_cell_122.png\n",
      "/kaggle/input/malaria-detection-dataset/Dataset/Train/Parasite/C39P4thinF_original_IMG_20150622_105102_cell_107.png\n",
      "/kaggle/input/malaria-detection-dataset/Dataset/Train/Parasite/C39P4thinF_original_IMG_20150622_105102_cell_105.png\n",
      "/kaggle/input/malaria-detection-dataset/Dataset/Train/Parasite/C133P94ThinF_IMG_20151004_155912_cell_4.png\n",
      "/kaggle/input/malaria-detection-dataset/Dataset/Train/Parasite/C38P3thinF_original_IMG_20150621_112043_cell_202.png\n",
      "/kaggle/input/malaria-detection-dataset/Dataset/Train/Parasite/C39P4thinF_original_IMG_20150622_105253_cell_104.png\n",
      "/kaggle/input/malaria-detection-dataset/Dataset/Train/Parasite/C37BP2_thinF_IMG_20150620_133001a_cell_76.png\n",
      "/kaggle/input/malaria-detection-dataset/Dataset/Train/Parasite/C33P1thinF_IMG_20150619_121300a_cell_156.png\n",
      "/kaggle/input/malaria-detection-dataset/Dataset/Train/Parasite/C33P1thinF_IMG_20150619_120645a_cell_215.png\n",
      "/kaggle/input/malaria-detection-dataset/Dataset/Train/Parasite/C134P95ThinF_IMG_20151005_121656_cell_104.png\n",
      "/kaggle/input/malaria-detection-dataset/Dataset/Train/Parasite/C134P95ThinF_IMG_20151005_121834_cell_123.png\n",
      "/kaggle/input/malaria-detection-dataset/Dataset/Train/Parasite/C39P4thinF_original_IMG_20150622_105335_cell_12.png\n",
      "/kaggle/input/malaria-detection-dataset/Dataset/Train/Parasite/C39P4thinF_original_IMG_20150622_105102_cell_92.png\n",
      "/kaggle/input/malaria-detection-dataset/Dataset/Train/Parasite/C39P4thinF_original_IMG_20150622_105335_cell_32.png\n",
      "/kaggle/input/malaria-detection-dataset/Dataset/Train/Parasite/C33P1thinF_IMG_20150619_115740a_cell_162.png\n",
      "/kaggle/input/malaria-detection-dataset/Dataset/Train/Parasite/C39P4thinF_original_IMG_20150622_105102_cell_83.png\n",
      "/kaggle/input/malaria-detection-dataset/Dataset/Train/Parasite/C133P94ThinF_IMG_20151004_155721_cell_116.png\n",
      "/kaggle/input/malaria-detection-dataset/Dataset/Train/Parasite/C37BP2_thinF_IMG_20150620_132440a_cell_108.png\n",
      "/kaggle/input/malaria-detection-dataset/Dataset/Train/Parasite/C37BP2_thinF_IMG_20150620_131423a_cell_92.png\n",
      "/kaggle/input/malaria-detection-dataset/Dataset/Train/Parasite/C189P150ThinF_IMG_20151203_142224_cell_92.png\n",
      "/kaggle/input/malaria-detection-dataset/Dataset/Train/Parasite/C133P94ThinF_IMG_20151004_155912_cell_1.png\n",
      "/kaggle/input/malaria-detection-dataset/Dataset/Train/Parasite/C39P4thinF_original_IMG_20150622_105253_cell_91.png\n",
      "/kaggle/input/malaria-detection-dataset/Dataset/Train/Parasite/C134P95ThinF_IMG_20151005_121952_cell_123.png\n",
      "/kaggle/input/malaria-detection-dataset/Dataset/Train/Parasite/C189P150ThinF_IMG_20151203_142113_cell_92.png\n",
      "/kaggle/input/malaria-detection-dataset/Dataset/Train/Parasite/C33P1thinF_IMG_20150619_121411a_cell_189.png\n",
      "/kaggle/input/malaria-detection-dataset/Dataset/Train/Parasite/C39P4thinF_original_IMG_20150622_105253_cell_96.png\n",
      "/kaggle/input/malaria-detection-dataset/Dataset/Train/Parasite/C133P94ThinF_IMG_20151004_155912_cell_12.png\n",
      "/kaggle/input/malaria-detection-dataset/Dataset/Train/Parasite/C133P94ThinF_IMG_20151004_155912_cell_13.png\n",
      "/kaggle/input/malaria-detection-dataset/Dataset/Train/Parasite/C39P4thinF_original_IMG_20150622_105335_cell_13.png\n",
      "/kaggle/input/malaria-detection-dataset/Dataset/Train/Parasite/C39P4thinF_original_IMG_20150622_105102_cell_86.png\n",
      "/kaggle/input/malaria-detection-dataset/Dataset/Train/Parasite/C133P94ThinF_IMG_20151004_155721_cell_123.png\n",
      "/kaggle/input/malaria-detection-dataset/Dataset/Train/Parasite/C133P94ThinF_IMG_20151004_155912_cell_17.png\n",
      "/kaggle/input/malaria-detection-dataset/Dataset/Train/Parasite/C189P150ThinF_IMG_20151203_142224_cell_93.png\n",
      "/kaggle/input/malaria-detection-dataset/Dataset/Train/Parasite/C133P94ThinF_IMG_20151004_155721_cell_120.png\n",
      "/kaggle/input/malaria-detection-dataset/Dataset/Train/Parasite/C133P94ThinF_IMG_20151004_155721_cell_113.png\n",
      "/kaggle/input/malaria-detection-dataset/Dataset/Train/Parasite/C189P150ThinF_IMG_20151203_142113_cell_90.png\n",
      "/kaggle/input/malaria-detection-dataset/Dataset/Train/Parasite/C38P3thinF_original_IMG_20150621_112138_cell_183.png\n",
      "/kaggle/input/malaria-detection-dataset/Dataset/Train/Parasite/C37BP2_thinF_IMG_20150620_133111a_cell_88.png\n",
      "/kaggle/input/malaria-detection-dataset/Dataset/Train/Parasite/C134P95ThinF_IMG_20151005_122552_cell_121.png\n",
      "/kaggle/input/malaria-detection-dataset/Dataset/Train/Parasite/C33P1thinF_IMG_20150619_121411a_cell_190.png\n",
      "/kaggle/input/malaria-detection-dataset/Dataset/Train/Parasite/C39P4thinF_original_IMG_20150622_105102_cell_104.png\n",
      "/kaggle/input/malaria-detection-dataset/Dataset/Train/Parasite/C39P4thinF_original_IMG_20150622_105102_cell_79.png\n",
      "/kaggle/input/malaria-detection-dataset/Dataset/Train/Parasite/C39P4thinF_original_IMG_20150622_105335_cell_4.png\n",
      "/kaggle/input/malaria-detection-dataset/Dataset/Train/Parasite/C39P4thinF_original_IMG_20150622_105102_cell_102.png\n",
      "/kaggle/input/malaria-detection-dataset/Dataset/Train/Parasite/C134P95ThinF_IMG_20151005_121656_cell_105.png\n",
      "/kaggle/input/malaria-detection-dataset/Dataset/Train/Parasite/C133P94ThinF_IMG_20151004_155912_cell_19.png\n",
      "/kaggle/input/malaria-detection-dataset/Dataset/Train/Parasite/C133P94ThinF_IMG_20151004_155912_cell_16.png\n",
      "/kaggle/input/malaria-detection-dataset/Dataset/Train/Parasite/C39P4thinF_original_IMG_20150622_105102_cell_101.png\n",
      "/kaggle/input/malaria-detection-dataset/Dataset/Train/Parasite/C39P4thinF_original_IMG_20150622_105554_cell_4.png\n",
      "/kaggle/input/malaria-detection-dataset/Dataset/Train/Parasite/C39P4thinF_original_IMG_20150622_105335_cell_20.png\n",
      "/kaggle/input/malaria-detection-dataset/Dataset/Train/Parasite/C39P4thinF_original_IMG_20150622_105102_cell_99.png\n",
      "/kaggle/input/malaria-detection-dataset/Dataset/Train/Parasite/C37BP2_thinF_IMG_20150620_133111a_cell_86.png\n",
      "/kaggle/input/malaria-detection-dataset/Dataset/Train/Parasite/C39P4thinF_original_IMG_20150622_105335_cell_14.png\n",
      "/kaggle/input/malaria-detection-dataset/Dataset/Train/Parasite/C39P4thinF_original_IMG_20150622_105253_cell_102.png\n",
      "/kaggle/input/malaria-detection-dataset/Dataset/Train/Parasite/C133P94ThinF_IMG_20151004_155912_cell_10.png\n",
      "/kaggle/input/malaria-detection-dataset/Dataset/Train/Parasite/C39P4thinF_original_IMG_20150622_105102_cell_98.png\n",
      "/kaggle/input/malaria-detection-dataset/Dataset/Train/Parasite/C37BP2_thinF_IMG_20150620_133238a_cell_97.png\n",
      "/kaggle/input/malaria-detection-dataset/Dataset/Train/Parasite/C39P4thinF_original_IMG_20150622_105554_cell_1.png\n",
      "/kaggle/input/malaria-detection-dataset/Dataset/Train/Parasite/C39P4thinF_original_IMG_20150622_105253_cell_98.png\n",
      "/kaggle/input/malaria-detection-dataset/Dataset/Train/Parasite/C133P94ThinF_IMG_20151004_155912_cell_5.png\n",
      "/kaggle/input/malaria-detection-dataset/Dataset/Train/Parasite/C39P4thinF_original_IMG_20150622_105102_cell_93.png\n",
      "/kaggle/input/malaria-detection-dataset/Dataset/Train/Parasite/C134P95ThinF_IMG_20151005_122552_cell_122.png\n",
      "/kaggle/input/malaria-detection-dataset/Dataset/Train/Parasite/C33P1thinF_IMG_20150619_115740a_cell_161.png\n",
      "/kaggle/input/malaria-detection-dataset/Dataset/Train/Parasite/C39P4thinF_original_IMG_20150622_105253_cell_97.png\n",
      "/kaggle/input/malaria-detection-dataset/Dataset/Train/Parasite/C39P4thinF_original_IMG_20150622_105253_cell_108.png\n",
      "/kaggle/input/malaria-detection-dataset/Dataset/Train/Parasite/C39P4thinF_original_IMG_20150622_105335_cell_25.png\n",
      "/kaggle/input/malaria-detection-dataset/Dataset/Train/Parasite/C134P95ThinF_IMG_20151005_121952_cell_122.png\n",
      "/kaggle/input/malaria-detection-dataset/Dataset/Train/Parasite/C39P4thinF_original_IMG_20150622_105102_cell_89.png\n",
      "/kaggle/input/malaria-detection-dataset/Dataset/Train/Parasite/C133P94ThinF_IMG_20151004_155912_cell_8.png\n",
      "/kaggle/input/malaria-detection-dataset/Dataset/Train/Parasite/C134P95ThinF_IMG_20151005_121343_cell_122.png\n",
      "/kaggle/input/malaria-detection-dataset/Dataset/Train/Parasite/C33P1thinF_IMG_20150619_114756a_cell_179.png\n",
      "/kaggle/input/malaria-detection-dataset/Dataset/Train/Parasite/C39P4thinF_original_IMG_20150622_105253_cell_90.png\n",
      "/kaggle/input/malaria-detection-dataset/Dataset/Train/Parasite/C133P94ThinF_IMG_20151004_155912_cell_15.png\n",
      "/kaggle/input/malaria-detection-dataset/Dataset/Train/Parasite/C39P4thinF_original_IMG_20150622_105253_cell_103.png\n",
      "/kaggle/input/malaria-detection-dataset/Dataset/Train/Parasite/C133P94ThinF_IMG_20151004_155912_cell_11.png\n",
      "/kaggle/input/malaria-detection-dataset/Dataset/Train/Parasite/C134P95ThinF_IMG_20151005_121343_cell_124.png\n",
      "/kaggle/input/malaria-detection-dataset/Dataset/Train/Parasite/C189P150ThinF_IMG_20151203_142224_cell_86.png\n",
      "/kaggle/input/malaria-detection-dataset/Dataset/Train/Parasite/C133P94ThinF_IMG_20151004_155912_cell_6.png\n",
      "/kaggle/input/malaria-detection-dataset/Dataset/Train/Parasite/C33P1thinF_IMG_20150619_120838a_cell_222.png\n",
      "/kaggle/input/malaria-detection-dataset/Dataset/Train/Parasite/C38P3thinF_original_IMG_20150621_112116_cell_205.png\n",
      "/kaggle/input/malaria-detection-dataset/Dataset/Train/Parasite/C189P150ThinF_IMG_20151203_142224_cell_81.png\n",
      "/kaggle/input/malaria-detection-dataset/Dataset/Train/Parasite/C189P150ThinF_IMG_20151203_142224_cell_83.png\n",
      "/kaggle/input/malaria-detection-dataset/Dataset/Train/Parasite/C134P95ThinF_IMG_20151005_121834_cell_122.png\n",
      "/kaggle/input/malaria-detection-dataset/Dataset/Train/Parasite/C37BP2_thinF_IMG_20150620_131423a_cell_94.png\n",
      "/kaggle/input/malaria-detection-dataset/Dataset/Train/Parasite/C133P94ThinF_IMG_20151004_155912_cell_3.png\n",
      "/kaggle/input/malaria-detection-dataset/Dataset/Train/Parasite/C39P4thinF_original_IMG_20150622_105102_cell_95.png\n",
      "/kaggle/input/malaria-detection-dataset/Dataset/Train/Parasite/C33P1thinF_IMG_20150619_120742a_cell_210.png\n",
      "/kaggle/input/malaria-detection-dataset/Dataset/Train/Parasite/C189P150ThinF_IMG_20151203_142224_cell_79.png\n",
      "/kaggle/input/malaria-detection-dataset/Dataset/Train/Parasite/C39P4thinF_original_IMG_20150622_105253_cell_107.png\n",
      "/kaggle/input/malaria-detection-dataset/Dataset/Train/Parasite/C134P95ThinF_IMG_20151005_122552_cell_124.png\n",
      "/kaggle/input/malaria-detection-dataset/Dataset/Train/Parasite/C39P4thinF_original_IMG_20150622_105335_cell_28.png\n",
      "/kaggle/input/malaria-detection-dataset/Dataset/Train/Parasite/C189P150ThinF_IMG_20151203_142113_cell_87.png\n",
      "/kaggle/input/malaria-detection-dataset/Dataset/Train/Parasite/C133P94ThinF_IMG_20151004_155721_cell_112.png\n",
      "/kaggle/input/malaria-detection-dataset/Dataset/Train/Parasite/C134P95ThinF_IMG_20151005_121048_cell_112.png\n",
      "/kaggle/input/malaria-detection-dataset/Dataset/Train/Parasite/C39P4thinF_original_IMG_20150622_105335_cell_24.png\n",
      "/kaggle/input/malaria-detection-dataset/Dataset/Train/Parasite/C39P4thinF_original_IMG_20150622_105102_cell_80.png\n",
      "/kaggle/input/malaria-detection-dataset/Dataset/Train/Parasite/C134P95ThinF_IMG_20151005_121952_cell_121.png\n",
      "/kaggle/input/malaria-detection-dataset/Dataset/Train/Parasite/C133P94ThinF_IMG_20151004_155912_cell_14.png\n",
      "/kaggle/input/malaria-detection-dataset/Dataset/Train/Parasite/C39P4thinF_original_IMG_20150622_105102_cell_103.png\n",
      "/kaggle/input/malaria-detection-dataset/Dataset/Train/Parasite/C39P4thinF_original_IMG_20150622_105102_cell_87.png\n",
      "/kaggle/input/malaria-detection-dataset/Dataset/Train/Parasite/C39P4thinF_original_IMG_20150622_105102_cell_85.png\n",
      "/kaggle/input/malaria-detection-dataset/Dataset/Train/Parasite/C134P95ThinF_IMG_20151005_121554_cell_121.png\n",
      "/kaggle/input/malaria-detection-dataset/Dataset/Train/Parasite/C189P150ThinF_IMG_20151203_142224_cell_94.png\n",
      "/kaggle/input/malaria-detection-dataset/Dataset/Train/Parasite/C134P95ThinF_IMG_20151005_122449_cell_134.png\n",
      "/kaggle/input/malaria-detection-dataset/Dataset/Train/Parasite/C189P150ThinF_IMG_20151203_142224_cell_90.png\n",
      "/kaggle/input/malaria-detection-dataset/Dataset/Train/Parasite/C33P1thinF_IMG_20150619_121229a_cell_179.png\n",
      "/kaggle/input/malaria-detection-dataset/Dataset/Train/Parasite/C39P4thinF_original_IMG_20150622_105335_cell_11.png\n",
      "/kaggle/input/malaria-detection-dataset/Dataset/Train/Parasite/C39P4thinF_original_IMG_20150622_105102_cell_88.png\n",
      "/kaggle/input/malaria-detection-dataset/Dataset/Train/Parasite/C33P1thinF_IMG_20150619_121503a_cell_158.png\n",
      "/kaggle/input/malaria-detection-dataset/Dataset/Train/Parasite/C39P4thinF_original_IMG_20150622_105335_cell_7.png\n",
      "/kaggle/input/malaria-detection-dataset/Dataset/Train/Parasite/C189P150ThinF_IMG_20151203_142113_cell_88.png\n",
      "/kaggle/input/malaria-detection-dataset/Dataset/Train/Parasite/C39P4thinF_original_IMG_20150622_105102_cell_81.png\n",
      "/kaggle/input/malaria-detection-dataset/Dataset/Train/Parasite/C39P4thinF_original_IMG_20150622_105335_cell_29.png\n",
      "/kaggle/input/malaria-detection-dataset/Dataset/Train/Parasite/C39P4thinF_original_IMG_20150622_105102_cell_84.png\n",
      "/kaggle/input/malaria-detection-dataset/Dataset/Train/Parasite/C39P4thinF_original_IMG_20150622_105253_cell_105.png\n",
      "/kaggle/input/malaria-detection-dataset/Dataset/Train/Parasite/C39P4thinF_original_IMG_20150622_105335_cell_19.png\n",
      "/kaggle/input/malaria-detection-dataset/Dataset/Train/Parasite/C37BP2_thinF_IMG_20150620_133111a_cell_87.png\n",
      "/kaggle/input/malaria-detection-dataset/Dataset/Train/Parasite/C39P4thinF_original_IMG_20150622_105335_cell_23.png\n",
      "/kaggle/input/malaria-detection-dataset/Dataset/Train/Parasite/C189P150ThinF_IMG_20151203_142224_cell_95.png\n",
      "/kaggle/input/malaria-detection-dataset/Dataset/Train/Parasite/C189P150ThinF_IMG_20151203_142224_cell_98.png\n",
      "/kaggle/input/malaria-detection-dataset/Dataset/Train/Parasite/C134P95ThinF_IMG_20151005_122331_cell_103.png\n",
      "/kaggle/input/malaria-detection-dataset/Dataset/Train/Parasite/C133P94ThinF_IMG_20151004_155912_cell_20.png\n",
      "/kaggle/input/malaria-detection-dataset/Dataset/Train/Parasite/C134P95ThinF_IMG_20151005_121834_cell_121.png\n",
      "/kaggle/input/malaria-detection-dataset/Dataset/Train/Parasite/C134P95ThinF_IMG_20151005_122449_cell_133.png\n",
      "/kaggle/input/malaria-detection-dataset/Dataset/Train/Parasite/C189P150ThinF_IMG_20151203_142224_cell_96.png\n",
      "/kaggle/input/malaria-detection-dataset/Dataset/Train/Parasite/C133P94ThinF_IMG_20151004_155721_cell_117.png\n",
      "/kaggle/input/malaria-detection-dataset/Dataset/Train/Parasite/C39P4thinF_original_IMG_20150622_105335_cell_31.png\n",
      "/kaggle/input/malaria-detection-dataset/Dataset/Train/Parasite/C39P4thinF_original_IMG_20150622_105102_cell_106.png\n",
      "/kaggle/input/malaria-detection-dataset/Dataset/Train/Parasite/C39P4thinF_original_IMG_20150622_105253_cell_92.png\n",
      "/kaggle/input/malaria-detection-dataset/Dataset/Train/Parasite/C133P94ThinF_IMG_20151004_155721_cell_118.png\n",
      "/kaggle/input/malaria-detection-dataset/Dataset/Train/Parasite/C189P150ThinF_IMG_20151203_142224_cell_87.png\n",
      "/kaggle/input/malaria-detection-dataset/Dataset/Train/Parasite/C37BP2_thinF_IMG_20150620_133001a_cell_77.png\n",
      "/kaggle/input/malaria-detection-dataset/Dataset/Train/Parasite/C33P1thinF_IMG_20150619_120804a_cell_224.png\n",
      "/kaggle/input/malaria-detection-dataset/Dataset/Train/Parasite/C39P4thinF_original_IMG_20150622_105554_cell_3.png\n",
      "/kaggle/input/malaria-detection-dataset/Dataset/Train/Parasite/C39P4thinF_original_IMG_20150622_105335_cell_27.png\n",
      "/kaggle/input/malaria-detection-dataset/Dataset/Train/Parasite/C39P4thinF_original_IMG_20150622_105253_cell_95.png\n",
      "/kaggle/input/malaria-detection-dataset/Dataset/Train/Parasite/C39P4thinF_original_IMG_20150622_105335_cell_1.png\n",
      "/kaggle/input/malaria-detection-dataset/Dataset/Train/Parasite/C39P4thinF_original_IMG_20150622_105102_cell_90.png\n",
      "/kaggle/input/malaria-detection-dataset/Dataset/Train/Parasite/C39P4thinF_original_IMG_20150622_105335_cell_18.png\n",
      "/kaggle/input/malaria-detection-dataset/Dataset/Train/Parasite/C133P94ThinF_IMG_20151004_155721_cell_114.png\n",
      "/kaggle/input/malaria-detection-dataset/Dataset/Train/Parasite/C38P3thinF_original_IMG_20150621_112043_cell_203.png\n",
      "/kaggle/input/malaria-detection-dataset/Dataset/Train/Parasite/C39P4thinF_original_IMG_20150622_105335_cell_5.png\n",
      "/kaggle/input/malaria-detection-dataset/Dataset/Train/Parasite/C39P4thinF_original_IMG_20150622_105335_cell_3.png\n",
      "/kaggle/input/malaria-detection-dataset/Dataset/Train/Parasite/C39P4thinF_original_IMG_20150622_105253_cell_106.png\n",
      "/kaggle/input/malaria-detection-dataset/Dataset/Train/Parasite/C39P4thinF_original_IMG_20150622_105335_cell_8.png\n",
      "/kaggle/input/malaria-detection-dataset/Dataset/Train/Parasite/C189P150ThinF_IMG_20151203_142224_cell_82.png\n",
      "/kaggle/input/malaria-detection-dataset/Dataset/Train/Parasite/C134P95ThinF_IMG_20151005_121425_cell_127.png\n",
      "/kaggle/input/malaria-detection-dataset/Dataset/Train/Parasite/C39P4thinF_original_IMG_20150622_105335_cell_2.png\n",
      "/kaggle/input/malaria-detection-dataset/Dataset/Train/Parasite/C189P150ThinF_IMG_20151203_142113_cell_91.png\n",
      "/kaggle/input/malaria-detection-dataset/Dataset/Train/Parasite/C189P150ThinF_IMG_20151203_142113_cell_89.png\n",
      "/kaggle/input/malaria-detection-dataset/Dataset/Train/Parasite/C39P4thinF_original_IMG_20150622_105253_cell_94.png\n",
      "/kaggle/input/malaria-detection-dataset/Dataset/Train/Parasite/C38P3thinF_original_IMG_20150621_112246_cell_236.png\n",
      "/kaggle/input/malaria-detection-dataset/Dataset/Train/Parasite/C189P150ThinF_IMG_20151203_142113_cell_86.png\n",
      "/kaggle/input/malaria-detection-dataset/Dataset/Train/Parasite/C33P1thinF_IMG_20150619_121435a_cell_173.png\n",
      "/kaggle/input/malaria-detection-dataset/Dataset/Train/Parasite/C33P1thinF_IMG_20150619_115808a_cell_205.png\n",
      "/kaggle/input/malaria-detection-dataset/Dataset/Train/Parasite/C133P94ThinF_IMG_20151004_155721_cell_124.png\n"
     ]
    }
   ],
   "source": [
    "# This Python 3 environment comes with many helpful analytics libraries installed\n",
    "# It is defined by the kaggle/python Docker image: https://github.com/kaggle/docker-python\n",
    "# For example, here's several helpful packages to load\n",
    "\n",
    "import numpy as np # linear algebra\n",
    "import pandas as pd # data processing, CSV file I/O (e.g. pd.read_csv)\n",
    "\n",
    "# Input data files are available in the read-only \"../input/\" directory\n",
    "# For example, running this (by clicking run or pressing Shift+Enter) will list all files under the input directory\n",
    "\n",
    "import os\n",
    "for dirname, _, filenames in os.walk('/kaggle/input'):\n",
    "    for filename in filenames:\n",
    "        print(os.path.join(dirname, filename))\n",
    "\n",
    "# You can write up to 20GB to the current directory (/kaggle/working/) that gets preserved as output when you create a version using \"Save & Run All\" \n",
    "# You can also write temporary files to /kaggle/temp/, but they won't be saved outside of the current session"
   ]
  },
  {
   "cell_type": "code",
   "execution_count": 2,
   "id": "56be9898",
   "metadata": {
    "execution": {
     "iopub.execute_input": "2025-08-26T15:18:31.981673Z",
     "iopub.status.busy": "2025-08-26T15:18:31.981251Z",
     "iopub.status.idle": "2025-08-26T15:18:32.292780Z",
     "shell.execute_reply": "2025-08-26T15:18:32.291612Z"
    },
    "papermill": {
     "duration": 0.319238,
     "end_time": "2025-08-26T15:18:32.294719",
     "exception": false,
     "start_time": "2025-08-26T15:18:31.975481",
     "status": "completed"
    },
    "tags": []
   },
   "outputs": [],
   "source": [
    "import os\n",
    "import cv2\n",
    "import pandas as pd\n",
    "import numpy as np\n",
    "import random"
   ]
  },
  {
   "cell_type": "code",
   "execution_count": 3,
   "id": "2b578c30",
   "metadata": {
    "execution": {
     "iopub.execute_input": "2025-08-26T15:18:32.305551Z",
     "iopub.status.busy": "2025-08-26T15:18:32.305221Z",
     "iopub.status.idle": "2025-08-26T15:18:32.309593Z",
     "shell.execute_reply": "2025-08-26T15:18:32.308803Z"
    },
    "papermill": {
     "duration": 0.011442,
     "end_time": "2025-08-26T15:18:32.311059",
     "exception": false,
     "start_time": "2025-08-26T15:18:32.299617",
     "status": "completed"
    },
    "tags": []
   },
   "outputs": [],
   "source": [
    "train_dir = '/kaggle/input/malaria-detection-dataset/Dataset/Train/'\n",
    "test_dir='/kaggle/input/malaria-detection-dataset/Dataset/Test/'"
   ]
  },
  {
   "cell_type": "code",
   "execution_count": 4,
   "id": "1a94039f",
   "metadata": {
    "execution": {
     "iopub.execute_input": "2025-08-26T15:18:32.321806Z",
     "iopub.status.busy": "2025-08-26T15:18:32.321500Z",
     "iopub.status.idle": "2025-08-26T15:18:35.359984Z",
     "shell.execute_reply": "2025-08-26T15:18:35.358904Z"
    },
    "papermill": {
     "duration": 3.046145,
     "end_time": "2025-08-26T15:18:35.361874",
     "exception": false,
     "start_time": "2025-08-26T15:18:32.315729",
     "status": "completed"
    },
    "tags": []
   },
   "outputs": [],
   "source": [
    "data=[]\n",
    "for i in os.listdir(train_dir):\n",
    "    folder_path = os.path.join(train_dir,i)\n",
    "    if i=='Parasite':\n",
    "        label=1\n",
    "    else:\n",
    "        label=0\n",
    "    for j in os.listdir(folder_path):\n",
    "        img_path = os.path.join(folder_path,j)\n",
    "        img = cv2.imread(img_path)\n",
    "        img=cv2.resize(img,(256,256))\n",
    "        data.append([img,label])\n",
    "        \n",
    "        \n",
    "       "
   ]
  },
  {
   "cell_type": "code",
   "execution_count": 5,
   "id": "64524b53",
   "metadata": {
    "execution": {
     "iopub.execute_input": "2025-08-26T15:18:35.373210Z",
     "iopub.status.busy": "2025-08-26T15:18:35.372890Z",
     "iopub.status.idle": "2025-08-26T15:18:35.377532Z",
     "shell.execute_reply": "2025-08-26T15:18:35.376591Z"
    },
    "papermill": {
     "duration": 0.01208,
     "end_time": "2025-08-26T15:18:35.378887",
     "exception": false,
     "start_time": "2025-08-26T15:18:35.366807",
     "status": "completed"
    },
    "tags": []
   },
   "outputs": [],
   "source": [
    "random.shuffle(data)"
   ]
  },
  {
   "cell_type": "code",
   "execution_count": 6,
   "id": "b129194d",
   "metadata": {
    "execution": {
     "iopub.execute_input": "2025-08-26T15:18:35.389379Z",
     "iopub.status.busy": "2025-08-26T15:18:35.388996Z",
     "iopub.status.idle": "2025-08-26T15:18:36.518635Z",
     "shell.execute_reply": "2025-08-26T15:18:36.517520Z"
    },
    "papermill": {
     "duration": 1.136751,
     "end_time": "2025-08-26T15:18:36.520377",
     "exception": false,
     "start_time": "2025-08-26T15:18:35.383626",
     "status": "completed"
    },
    "tags": []
   },
   "outputs": [],
   "source": [
    "X=np.array([i[0]/255 for i in data])\n",
    "y=np.array([i[1] for i in data])"
   ]
  },
  {
   "cell_type": "code",
   "execution_count": 7,
   "id": "5b6b57c1",
   "metadata": {
    "execution": {
     "iopub.execute_input": "2025-08-26T15:18:36.532741Z",
     "iopub.status.busy": "2025-08-26T15:18:36.532370Z",
     "iopub.status.idle": "2025-08-26T15:18:36.537802Z",
     "shell.execute_reply": "2025-08-26T15:18:36.536828Z"
    },
    "papermill": {
     "duration": 0.013035,
     "end_time": "2025-08-26T15:18:36.539578",
     "exception": false,
     "start_time": "2025-08-26T15:18:36.526543",
     "status": "completed"
    },
    "tags": []
   },
   "outputs": [
    {
     "name": "stdout",
     "output_type": "stream",
     "text": [
      "(416, 256, 256, 3)\n",
      "(416,)\n"
     ]
    }
   ],
   "source": [
    "print(X.shape)\n",
    "print(y.shape)"
   ]
  },
  {
   "cell_type": "code",
   "execution_count": 8,
   "id": "7b480d3f",
   "metadata": {
    "execution": {
     "iopub.execute_input": "2025-08-26T15:18:36.550879Z",
     "iopub.status.busy": "2025-08-26T15:18:36.549960Z",
     "iopub.status.idle": "2025-08-26T15:18:56.857799Z",
     "shell.execute_reply": "2025-08-26T15:18:56.856939Z"
    },
    "papermill": {
     "duration": 20.315186,
     "end_time": "2025-08-26T15:18:56.859507",
     "exception": false,
     "start_time": "2025-08-26T15:18:36.544321",
     "status": "completed"
    },
    "tags": []
   },
   "outputs": [
    {
     "name": "stderr",
     "output_type": "stream",
     "text": [
      "2025-08-26 15:18:38.997062: E external/local_xla/xla/stream_executor/cuda/cuda_fft.cc:477] Unable to register cuFFT factory: Attempting to register factory for plugin cuFFT when one has already been registered\n",
      "WARNING: All log messages before absl::InitializeLog() is called are written to STDERR\n",
      "E0000 00:00:1756221519.319077      13 cuda_dnn.cc:8310] Unable to register cuDNN factory: Attempting to register factory for plugin cuDNN when one has already been registered\n",
      "E0000 00:00:1756221519.401060      13 cuda_blas.cc:1418] Unable to register cuBLAS factory: Attempting to register factory for plugin cuBLAS when one has already been registered\n"
     ]
    }
   ],
   "source": [
    "import tensorflow as tf\n",
    "from tensorflow import keras\n",
    "\n",
    "from keras.layers import Dense, Conv2D, MaxPooling2D, Flatten"
   ]
  },
  {
   "cell_type": "markdown",
   "id": "292520d0",
   "metadata": {
    "papermill": {
     "duration": 0.004353,
     "end_time": "2025-08-26T15:18:56.868980",
     "exception": false,
     "start_time": "2025-08-26T15:18:56.864627",
     "status": "completed"
    },
    "tags": []
   },
   "source": [
    "### Without Data augumentation"
   ]
  },
  {
   "cell_type": "code",
   "execution_count": 9,
   "id": "3bcf7006",
   "metadata": {
    "execution": {
     "iopub.execute_input": "2025-08-26T15:18:56.880483Z",
     "iopub.status.busy": "2025-08-26T15:18:56.879874Z",
     "iopub.status.idle": "2025-08-26T15:18:57.284477Z",
     "shell.execute_reply": "2025-08-26T15:18:57.283678Z"
    },
    "papermill": {
     "duration": 0.412626,
     "end_time": "2025-08-26T15:18:57.286165",
     "exception": false,
     "start_time": "2025-08-26T15:18:56.873539",
     "status": "completed"
    },
    "tags": []
   },
   "outputs": [
    {
     "name": "stderr",
     "output_type": "stream",
     "text": [
      "/usr/local/lib/python3.11/dist-packages/keras/src/layers/convolutional/base_conv.py:107: UserWarning: Do not pass an `input_shape`/`input_dim` argument to a layer. When using Sequential models, prefer using an `Input(shape)` object as the first layer in the model instead.\n",
      "  super().__init__(activity_regularizer=activity_regularizer, **kwargs)\n",
      "2025-08-26 15:18:56.980410: E external/local_xla/xla/stream_executor/cuda/cuda_driver.cc:152] failed call to cuInit: INTERNAL: CUDA error: Failed call to cuInit: UNKNOWN ERROR (303)\n"
     ]
    }
   ],
   "source": [
    "from keras.models import Sequential\n",
    "model = keras.models.Sequential()\n",
    "\n",
    "model.add(Conv2D(32,kernel_size=(3,3),padding='valid',activation='relu',input_shape=(256,256,3)))\n",
    "model.add(MaxPooling2D(pool_size=(2,2),strides=2,padding='valid'))\n",
    "\n",
    "model.add(Conv2D(64,kernel_size=(3,3),padding='valid',activation='relu'))\n",
    "model.add(MaxPooling2D(pool_size=(2,2),strides=2,padding='valid'))\n",
    "\n",
    "model.add(Conv2D(128,kernel_size=(3,3),padding='valid',activation='relu'))\n",
    "model.add(MaxPooling2D(pool_size=(2,2),strides=2,padding='valid'))\n",
    "\n",
    "model.add(Flatten())\n",
    "\n",
    "model.add(Dense(128,activation='relu'))\n",
    "model.add(Dense(64,activation='relu'))\n",
    "model.add(Dense(1,activation='sigmoid'))"
   ]
  },
  {
   "cell_type": "code",
   "execution_count": 10,
   "id": "9697b621",
   "metadata": {
    "execution": {
     "iopub.execute_input": "2025-08-26T15:18:57.299364Z",
     "iopub.status.busy": "2025-08-26T15:18:57.298571Z",
     "iopub.status.idle": "2025-08-26T15:18:57.320154Z",
     "shell.execute_reply": "2025-08-26T15:18:57.319364Z"
    },
    "papermill": {
     "duration": 0.03026,
     "end_time": "2025-08-26T15:18:57.321557",
     "exception": false,
     "start_time": "2025-08-26T15:18:57.291297",
     "status": "completed"
    },
    "tags": []
   },
   "outputs": [
    {
     "data": {
      "text/html": [
       "<pre style=\"white-space:pre;overflow-x:auto;line-height:normal;font-family:Menlo,'DejaVu Sans Mono',consolas,'Courier New',monospace\"><span style=\"font-weight: bold\">Model: \"sequential\"</span>\n",
       "</pre>\n"
      ],
      "text/plain": [
       "\u001b[1mModel: \"sequential\"\u001b[0m\n"
      ]
     },
     "metadata": {},
     "output_type": "display_data"
    },
    {
     "data": {
      "text/html": [
       "<pre style=\"white-space:pre;overflow-x:auto;line-height:normal;font-family:Menlo,'DejaVu Sans Mono',consolas,'Courier New',monospace\">┏━━━━━━━━━━━━━━━━━━━━━━━━━━━━━━━━━┳━━━━━━━━━━━━━━━━━━━━━━━━┳━━━━━━━━━━━━━━━┓\n",
       "┃<span style=\"font-weight: bold\"> Layer (type)                    </span>┃<span style=\"font-weight: bold\"> Output Shape           </span>┃<span style=\"font-weight: bold\">       Param # </span>┃\n",
       "┡━━━━━━━━━━━━━━━━━━━━━━━━━━━━━━━━━╇━━━━━━━━━━━━━━━━━━━━━━━━╇━━━━━━━━━━━━━━━┩\n",
       "│ conv2d (<span style=\"color: #0087ff; text-decoration-color: #0087ff\">Conv2D</span>)                 │ (<span style=\"color: #00d7ff; text-decoration-color: #00d7ff\">None</span>, <span style=\"color: #00af00; text-decoration-color: #00af00\">254</span>, <span style=\"color: #00af00; text-decoration-color: #00af00\">254</span>, <span style=\"color: #00af00; text-decoration-color: #00af00\">32</span>)   │           <span style=\"color: #00af00; text-decoration-color: #00af00\">896</span> │\n",
       "├─────────────────────────────────┼────────────────────────┼───────────────┤\n",
       "│ max_pooling2d (<span style=\"color: #0087ff; text-decoration-color: #0087ff\">MaxPooling2D</span>)    │ (<span style=\"color: #00d7ff; text-decoration-color: #00d7ff\">None</span>, <span style=\"color: #00af00; text-decoration-color: #00af00\">127</span>, <span style=\"color: #00af00; text-decoration-color: #00af00\">127</span>, <span style=\"color: #00af00; text-decoration-color: #00af00\">32</span>)   │             <span style=\"color: #00af00; text-decoration-color: #00af00\">0</span> │\n",
       "├─────────────────────────────────┼────────────────────────┼───────────────┤\n",
       "│ conv2d_1 (<span style=\"color: #0087ff; text-decoration-color: #0087ff\">Conv2D</span>)               │ (<span style=\"color: #00d7ff; text-decoration-color: #00d7ff\">None</span>, <span style=\"color: #00af00; text-decoration-color: #00af00\">125</span>, <span style=\"color: #00af00; text-decoration-color: #00af00\">125</span>, <span style=\"color: #00af00; text-decoration-color: #00af00\">64</span>)   │        <span style=\"color: #00af00; text-decoration-color: #00af00\">18,496</span> │\n",
       "├─────────────────────────────────┼────────────────────────┼───────────────┤\n",
       "│ max_pooling2d_1 (<span style=\"color: #0087ff; text-decoration-color: #0087ff\">MaxPooling2D</span>)  │ (<span style=\"color: #00d7ff; text-decoration-color: #00d7ff\">None</span>, <span style=\"color: #00af00; text-decoration-color: #00af00\">62</span>, <span style=\"color: #00af00; text-decoration-color: #00af00\">62</span>, <span style=\"color: #00af00; text-decoration-color: #00af00\">64</span>)     │             <span style=\"color: #00af00; text-decoration-color: #00af00\">0</span> │\n",
       "├─────────────────────────────────┼────────────────────────┼───────────────┤\n",
       "│ conv2d_2 (<span style=\"color: #0087ff; text-decoration-color: #0087ff\">Conv2D</span>)               │ (<span style=\"color: #00d7ff; text-decoration-color: #00d7ff\">None</span>, <span style=\"color: #00af00; text-decoration-color: #00af00\">60</span>, <span style=\"color: #00af00; text-decoration-color: #00af00\">60</span>, <span style=\"color: #00af00; text-decoration-color: #00af00\">128</span>)    │        <span style=\"color: #00af00; text-decoration-color: #00af00\">73,856</span> │\n",
       "├─────────────────────────────────┼────────────────────────┼───────────────┤\n",
       "│ max_pooling2d_2 (<span style=\"color: #0087ff; text-decoration-color: #0087ff\">MaxPooling2D</span>)  │ (<span style=\"color: #00d7ff; text-decoration-color: #00d7ff\">None</span>, <span style=\"color: #00af00; text-decoration-color: #00af00\">30</span>, <span style=\"color: #00af00; text-decoration-color: #00af00\">30</span>, <span style=\"color: #00af00; text-decoration-color: #00af00\">128</span>)    │             <span style=\"color: #00af00; text-decoration-color: #00af00\">0</span> │\n",
       "├─────────────────────────────────┼────────────────────────┼───────────────┤\n",
       "│ flatten (<span style=\"color: #0087ff; text-decoration-color: #0087ff\">Flatten</span>)               │ (<span style=\"color: #00d7ff; text-decoration-color: #00d7ff\">None</span>, <span style=\"color: #00af00; text-decoration-color: #00af00\">115200</span>)         │             <span style=\"color: #00af00; text-decoration-color: #00af00\">0</span> │\n",
       "├─────────────────────────────────┼────────────────────────┼───────────────┤\n",
       "│ dense (<span style=\"color: #0087ff; text-decoration-color: #0087ff\">Dense</span>)                   │ (<span style=\"color: #00d7ff; text-decoration-color: #00d7ff\">None</span>, <span style=\"color: #00af00; text-decoration-color: #00af00\">128</span>)            │    <span style=\"color: #00af00; text-decoration-color: #00af00\">14,745,728</span> │\n",
       "├─────────────────────────────────┼────────────────────────┼───────────────┤\n",
       "│ dense_1 (<span style=\"color: #0087ff; text-decoration-color: #0087ff\">Dense</span>)                 │ (<span style=\"color: #00d7ff; text-decoration-color: #00d7ff\">None</span>, <span style=\"color: #00af00; text-decoration-color: #00af00\">64</span>)             │         <span style=\"color: #00af00; text-decoration-color: #00af00\">8,256</span> │\n",
       "├─────────────────────────────────┼────────────────────────┼───────────────┤\n",
       "│ dense_2 (<span style=\"color: #0087ff; text-decoration-color: #0087ff\">Dense</span>)                 │ (<span style=\"color: #00d7ff; text-decoration-color: #00d7ff\">None</span>, <span style=\"color: #00af00; text-decoration-color: #00af00\">1</span>)              │            <span style=\"color: #00af00; text-decoration-color: #00af00\">65</span> │\n",
       "└─────────────────────────────────┴────────────────────────┴───────────────┘\n",
       "</pre>\n"
      ],
      "text/plain": [
       "┏━━━━━━━━━━━━━━━━━━━━━━━━━━━━━━━━━┳━━━━━━━━━━━━━━━━━━━━━━━━┳━━━━━━━━━━━━━━━┓\n",
       "┃\u001b[1m \u001b[0m\u001b[1mLayer (type)                   \u001b[0m\u001b[1m \u001b[0m┃\u001b[1m \u001b[0m\u001b[1mOutput Shape          \u001b[0m\u001b[1m \u001b[0m┃\u001b[1m \u001b[0m\u001b[1m      Param #\u001b[0m\u001b[1m \u001b[0m┃\n",
       "┡━━━━━━━━━━━━━━━━━━━━━━━━━━━━━━━━━╇━━━━━━━━━━━━━━━━━━━━━━━━╇━━━━━━━━━━━━━━━┩\n",
       "│ conv2d (\u001b[38;5;33mConv2D\u001b[0m)                 │ (\u001b[38;5;45mNone\u001b[0m, \u001b[38;5;34m254\u001b[0m, \u001b[38;5;34m254\u001b[0m, \u001b[38;5;34m32\u001b[0m)   │           \u001b[38;5;34m896\u001b[0m │\n",
       "├─────────────────────────────────┼────────────────────────┼───────────────┤\n",
       "│ max_pooling2d (\u001b[38;5;33mMaxPooling2D\u001b[0m)    │ (\u001b[38;5;45mNone\u001b[0m, \u001b[38;5;34m127\u001b[0m, \u001b[38;5;34m127\u001b[0m, \u001b[38;5;34m32\u001b[0m)   │             \u001b[38;5;34m0\u001b[0m │\n",
       "├─────────────────────────────────┼────────────────────────┼───────────────┤\n",
       "│ conv2d_1 (\u001b[38;5;33mConv2D\u001b[0m)               │ (\u001b[38;5;45mNone\u001b[0m, \u001b[38;5;34m125\u001b[0m, \u001b[38;5;34m125\u001b[0m, \u001b[38;5;34m64\u001b[0m)   │        \u001b[38;5;34m18,496\u001b[0m │\n",
       "├─────────────────────────────────┼────────────────────────┼───────────────┤\n",
       "│ max_pooling2d_1 (\u001b[38;5;33mMaxPooling2D\u001b[0m)  │ (\u001b[38;5;45mNone\u001b[0m, \u001b[38;5;34m62\u001b[0m, \u001b[38;5;34m62\u001b[0m, \u001b[38;5;34m64\u001b[0m)     │             \u001b[38;5;34m0\u001b[0m │\n",
       "├─────────────────────────────────┼────────────────────────┼───────────────┤\n",
       "│ conv2d_2 (\u001b[38;5;33mConv2D\u001b[0m)               │ (\u001b[38;5;45mNone\u001b[0m, \u001b[38;5;34m60\u001b[0m, \u001b[38;5;34m60\u001b[0m, \u001b[38;5;34m128\u001b[0m)    │        \u001b[38;5;34m73,856\u001b[0m │\n",
       "├─────────────────────────────────┼────────────────────────┼───────────────┤\n",
       "│ max_pooling2d_2 (\u001b[38;5;33mMaxPooling2D\u001b[0m)  │ (\u001b[38;5;45mNone\u001b[0m, \u001b[38;5;34m30\u001b[0m, \u001b[38;5;34m30\u001b[0m, \u001b[38;5;34m128\u001b[0m)    │             \u001b[38;5;34m0\u001b[0m │\n",
       "├─────────────────────────────────┼────────────────────────┼───────────────┤\n",
       "│ flatten (\u001b[38;5;33mFlatten\u001b[0m)               │ (\u001b[38;5;45mNone\u001b[0m, \u001b[38;5;34m115200\u001b[0m)         │             \u001b[38;5;34m0\u001b[0m │\n",
       "├─────────────────────────────────┼────────────────────────┼───────────────┤\n",
       "│ dense (\u001b[38;5;33mDense\u001b[0m)                   │ (\u001b[38;5;45mNone\u001b[0m, \u001b[38;5;34m128\u001b[0m)            │    \u001b[38;5;34m14,745,728\u001b[0m │\n",
       "├─────────────────────────────────┼────────────────────────┼───────────────┤\n",
       "│ dense_1 (\u001b[38;5;33mDense\u001b[0m)                 │ (\u001b[38;5;45mNone\u001b[0m, \u001b[38;5;34m64\u001b[0m)             │         \u001b[38;5;34m8,256\u001b[0m │\n",
       "├─────────────────────────────────┼────────────────────────┼───────────────┤\n",
       "│ dense_2 (\u001b[38;5;33mDense\u001b[0m)                 │ (\u001b[38;5;45mNone\u001b[0m, \u001b[38;5;34m1\u001b[0m)              │            \u001b[38;5;34m65\u001b[0m │\n",
       "└─────────────────────────────────┴────────────────────────┴───────────────┘\n"
      ]
     },
     "metadata": {},
     "output_type": "display_data"
    },
    {
     "data": {
      "text/html": [
       "<pre style=\"white-space:pre;overflow-x:auto;line-height:normal;font-family:Menlo,'DejaVu Sans Mono',consolas,'Courier New',monospace\"><span style=\"font-weight: bold\"> Total params: </span><span style=\"color: #00af00; text-decoration-color: #00af00\">14,847,297</span> (56.64 MB)\n",
       "</pre>\n"
      ],
      "text/plain": [
       "\u001b[1m Total params: \u001b[0m\u001b[38;5;34m14,847,297\u001b[0m (56.64 MB)\n"
      ]
     },
     "metadata": {},
     "output_type": "display_data"
    },
    {
     "data": {
      "text/html": [
       "<pre style=\"white-space:pre;overflow-x:auto;line-height:normal;font-family:Menlo,'DejaVu Sans Mono',consolas,'Courier New',monospace\"><span style=\"font-weight: bold\"> Trainable params: </span><span style=\"color: #00af00; text-decoration-color: #00af00\">14,847,297</span> (56.64 MB)\n",
       "</pre>\n"
      ],
      "text/plain": [
       "\u001b[1m Trainable params: \u001b[0m\u001b[38;5;34m14,847,297\u001b[0m (56.64 MB)\n"
      ]
     },
     "metadata": {},
     "output_type": "display_data"
    },
    {
     "data": {
      "text/html": [
       "<pre style=\"white-space:pre;overflow-x:auto;line-height:normal;font-family:Menlo,'DejaVu Sans Mono',consolas,'Courier New',monospace\"><span style=\"font-weight: bold\"> Non-trainable params: </span><span style=\"color: #00af00; text-decoration-color: #00af00\">0</span> (0.00 B)\n",
       "</pre>\n"
      ],
      "text/plain": [
       "\u001b[1m Non-trainable params: \u001b[0m\u001b[38;5;34m0\u001b[0m (0.00 B)\n"
      ]
     },
     "metadata": {},
     "output_type": "display_data"
    }
   ],
   "source": [
    "model.summary()"
   ]
  },
  {
   "cell_type": "code",
   "execution_count": 11,
   "id": "237e9830",
   "metadata": {
    "execution": {
     "iopub.execute_input": "2025-08-26T15:18:57.334155Z",
     "iopub.status.busy": "2025-08-26T15:18:57.333825Z",
     "iopub.status.idle": "2025-08-26T15:18:57.348729Z",
     "shell.execute_reply": "2025-08-26T15:18:57.347890Z"
    },
    "papermill": {
     "duration": 0.022818,
     "end_time": "2025-08-26T15:18:57.350433",
     "exception": false,
     "start_time": "2025-08-26T15:18:57.327615",
     "status": "completed"
    },
    "tags": []
   },
   "outputs": [],
   "source": [
    "model.compile(optimizer='adam',loss='binary_crossentropy',metrics=['accuracy'])"
   ]
  },
  {
   "cell_type": "code",
   "execution_count": 12,
   "id": "83bff14d",
   "metadata": {
    "execution": {
     "iopub.execute_input": "2025-08-26T15:18:57.362389Z",
     "iopub.status.busy": "2025-08-26T15:18:57.361714Z",
     "iopub.status.idle": "2025-08-26T15:21:27.902840Z",
     "shell.execute_reply": "2025-08-26T15:21:27.901847Z"
    },
    "papermill": {
     "duration": 150.549106,
     "end_time": "2025-08-26T15:21:27.904856",
     "exception": false,
     "start_time": "2025-08-26T15:18:57.355750",
     "status": "completed"
    },
    "tags": []
   },
   "outputs": [
    {
     "name": "stdout",
     "output_type": "stream",
     "text": [
      "Epoch 1/5\n",
      "\u001b[1m12/12\u001b[0m \u001b[32m━━━━━━━━━━━━━━━━━━━━\u001b[0m\u001b[37m\u001b[0m \u001b[1m34s\u001b[0m 2s/step - accuracy: 0.5584 - loss: 1.0946 - val_accuracy: 0.6429 - val_loss: 0.6856\n",
      "Epoch 2/5\n",
      "\u001b[1m12/12\u001b[0m \u001b[32m━━━━━━━━━━━━━━━━━━━━\u001b[0m\u001b[37m\u001b[0m \u001b[1m30s\u001b[0m 2s/step - accuracy: 0.6868 - loss: 0.6743 - val_accuracy: 0.5714 - val_loss: 0.6019\n",
      "Epoch 3/5\n",
      "\u001b[1m12/12\u001b[0m \u001b[32m━━━━━━━━━━━━━━━━━━━━\u001b[0m\u001b[37m\u001b[0m \u001b[1m29s\u001b[0m 2s/step - accuracy: 0.6866 - loss: 0.5622 - val_accuracy: 0.8095 - val_loss: 0.4906\n",
      "Epoch 4/5\n",
      "\u001b[1m12/12\u001b[0m \u001b[32m━━━━━━━━━━━━━━━━━━━━\u001b[0m\u001b[37m\u001b[0m \u001b[1m29s\u001b[0m 2s/step - accuracy: 0.7776 - loss: 0.4685 - val_accuracy: 0.8095 - val_loss: 0.4347\n",
      "Epoch 5/5\n",
      "\u001b[1m12/12\u001b[0m \u001b[32m━━━━━━━━━━━━━━━━━━━━\u001b[0m\u001b[37m\u001b[0m \u001b[1m29s\u001b[0m 2s/step - accuracy: 0.7610 - loss: 0.4943 - val_accuracy: 0.6905 - val_loss: 0.5191\n"
     ]
    }
   ],
   "source": [
    "history=model.fit(X,y,epochs=5,validation_split=0.1)"
   ]
  },
  {
   "cell_type": "code",
   "execution_count": 13,
   "id": "11686f80",
   "metadata": {
    "execution": {
     "iopub.execute_input": "2025-08-26T15:21:27.925240Z",
     "iopub.status.busy": "2025-08-26T15:21:27.924572Z",
     "iopub.status.idle": "2025-08-26T15:21:28.220133Z",
     "shell.execute_reply": "2025-08-26T15:21:28.219005Z"
    },
    "papermill": {
     "duration": 0.308141,
     "end_time": "2025-08-26T15:21:28.221928",
     "exception": false,
     "start_time": "2025-08-26T15:21:27.913787",
     "status": "completed"
    },
    "tags": []
   },
   "outputs": [
    {
     "data": {
      "image/png": "[encoded data removed]",
      "text/plain": [
       "<Figure size 640x480 with 1 Axes>"
      ]
     },
     "metadata": {},
     "output_type": "display_data"
    }
   ],
   "source": [
    "import matplotlib.pyplot as plt\n",
    "plt.plot(history.history['accuracy'],color='red',label='train')\n",
    "plt.plot(history.history['val_accuracy'],color='blue',label='validation')\n",
    "plt.legend()\n",
    "plt.show()"
   ]
  },
  {
   "cell_type": "code",
   "execution_count": 14,
   "id": "87e0e147",
   "metadata": {
    "execution": {
     "iopub.execute_input": "2025-08-26T15:21:28.244488Z",
     "iopub.status.busy": "2025-08-26T15:21:28.244104Z",
     "iopub.status.idle": "2025-08-26T15:21:28.411330Z",
     "shell.execute_reply": "2025-08-26T15:21:28.410416Z"
    },
    "papermill": {
     "duration": 0.180618,
     "end_time": "2025-08-26T15:21:28.413267",
     "exception": false,
     "start_time": "2025-08-26T15:21:28.232649",
     "status": "completed"
    },
    "tags": []
   },
   "outputs": [
    {
     "data": {
      "image/png": "[encoded data removed]",
      "text/plain": [
       "<Figure size 640x480 with 1 Axes>"
      ]
     },
     "metadata": {},
     "output_type": "display_data"
    }
   ],
   "source": [
    "plt.plot(history.history['loss'],color='red',label='train')\n",
    "plt.plot(history.history['val_loss'],color='blue',label='validation')\n",
    "plt.legend()\n",
    "plt.show()"
   ]
  },
  {
   "cell_type": "markdown",
   "id": "dddf6a5a",
   "metadata": {
    "papermill": {
     "duration": 0.009609,
     "end_time": "2025-08-26T15:21:28.432993",
     "exception": false,
     "start_time": "2025-08-26T15:21:28.423384",
     "status": "completed"
    },
    "tags": []
   },
   "source": [
    "### with DataAugmentation"
   ]
  },
  {
   "cell_type": "code",
   "execution_count": 15,
   "id": "8e5fa30b",
   "metadata": {
    "execution": {
     "iopub.execute_input": "2025-08-26T15:21:28.453954Z",
     "iopub.status.busy": "2025-08-26T15:21:28.453646Z",
     "iopub.status.idle": "2025-08-26T15:21:28.459119Z",
     "shell.execute_reply": "2025-08-26T15:21:28.458439Z"
    },
    "papermill": {
     "duration": 0.017652,
     "end_time": "2025-08-26T15:21:28.460494",
     "exception": false,
     "start_time": "2025-08-26T15:21:28.442842",
     "status": "completed"
    },
    "tags": []
   },
   "outputs": [],
   "source": [
    "from tensorflow.keras.preprocessing.image import ImageDataGenerator"
   ]
  },
  {
   "cell_type": "code",
   "execution_count": 16,
   "id": "f5a5a28a",
   "metadata": {
    "execution": {
     "iopub.execute_input": "2025-08-26T15:21:28.481592Z",
     "iopub.status.busy": "2025-08-26T15:21:28.480763Z",
     "iopub.status.idle": "2025-08-26T15:21:28.519923Z",
     "shell.execute_reply": "2025-08-26T15:21:28.519109Z"
    },
    "papermill": {
     "duration": 0.051299,
     "end_time": "2025-08-26T15:21:28.521652",
     "exception": false,
     "start_time": "2025-08-26T15:21:28.470353",
     "status": "completed"
    },
    "tags": []
   },
   "outputs": [
    {
     "name": "stdout",
     "output_type": "stream",
     "text": [
      "Found 416 images belonging to 2 classes.\n",
      "Found 134 images belonging to 2 classes.\n"
     ]
    }
   ],
   "source": [
    "train_datagen = ImageDataGenerator(\n",
    "        rescale=1./255,\n",
    "        shear_range=0.2,\n",
    "        zoom_range=0.2,\n",
    "        horizontal_flip=True)\n",
    "test_datagen = ImageDataGenerator(rescale=1./255)\n",
    "train_generator = train_datagen.flow_from_directory(\n",
    "        '/kaggle/input/malaria-detection-dataset/Dataset/Train',  # this is the target directory\n",
    "        target_size=(256, 256),  # all images will be resized to 150x150\n",
    "        batch_size=16,\n",
    "        class_mode='binary') \n",
    "validation_generator = test_datagen.flow_from_directory(\n",
    "        '/kaggle/input/malaria-detection-dataset/Dataset/Test',\n",
    "        target_size=(256, 256),\n",
    "        batch_size=16,\n",
    "        class_mode='binary')"
   ]
  },
  {
   "cell_type": "code",
   "execution_count": 17,
   "id": "b5f90f1b",
   "metadata": {
    "execution": {
     "iopub.execute_input": "2025-08-26T15:21:28.542935Z",
     "iopub.status.busy": "2025-08-26T15:21:28.542615Z",
     "iopub.status.idle": "2025-08-26T15:38:04.287387Z",
     "shell.execute_reply": "2025-08-26T15:38:04.286447Z"
    },
    "papermill": {
     "duration": 995.757236,
     "end_time": "2025-08-26T15:38:04.289094",
     "exception": false,
     "start_time": "2025-08-26T15:21:28.531858",
     "status": "completed"
    },
    "tags": []
   },
   "outputs": [
    {
     "name": "stderr",
     "output_type": "stream",
     "text": [
      "/usr/local/lib/python3.11/dist-packages/keras/src/trainers/data_adapters/py_dataset_adapter.py:121: UserWarning: Your `PyDataset` class should call `super().__init__(**kwargs)` in its constructor. `**kwargs` can include `workers`, `use_multiprocessing`, `max_queue_size`. Do not pass these arguments to `fit()`, as they will be ignored.\n",
      "  self._warn_if_super_not_called()\n"
     ]
    },
    {
     "name": "stdout",
     "output_type": "stream",
     "text": [
      "Epoch 1/25\n",
      "\u001b[1m 26/125\u001b[0m \u001b[32m━━━━\u001b[0m\u001b[37m━━━━━━━━━━━━━━━━\u001b[0m \u001b[1m2:13\u001b[0m 1s/step - accuracy: 0.4436 - loss: 0.9531"
     ]
    },
    {
     "name": "stderr",
     "output_type": "stream",
     "text": [
      "/usr/local/lib/python3.11/dist-packages/keras/src/trainers/epoch_iterator.py:107: UserWarning: Your input ran out of data; interrupting training. Make sure that your dataset or generator can generate at least `steps_per_epoch * epochs` batches. You may need to use the `.repeat()` function when building your dataset.\n",
      "  self._interrupted_warning()\n"
     ]
    },
    {
     "name": "stdout",
     "output_type": "stream",
     "text": [
      "\u001b[1m125/125\u001b[0m \u001b[32m━━━━━━━━━━━━━━━━━━━━\u001b[0m\u001b[37m\u001b[0m \u001b[1m42s\u001b[0m 318ms/step - accuracy: 0.4788 - loss: 0.8186 - val_accuracy: 0.6791 - val_loss: 0.6779\n",
      "Epoch 2/25\n",
      "\u001b[1m125/125\u001b[0m \u001b[32m━━━━━━━━━━━━━━━━━━━━\u001b[0m\u001b[37m\u001b[0m \u001b[1m41s\u001b[0m 316ms/step - accuracy: 0.5347 - loss: 0.6911 - val_accuracy: 0.6791 - val_loss: 0.6882\n",
      "Epoch 3/25\n",
      "\u001b[1m125/125\u001b[0m \u001b[32m━━━━━━━━━━━━━━━━━━━━\u001b[0m\u001b[37m\u001b[0m \u001b[1m38s\u001b[0m 295ms/step - accuracy: 0.5963 - loss: 0.6607 - val_accuracy: 0.6119 - val_loss: 0.7243\n",
      "Epoch 4/25\n",
      "\u001b[1m125/125\u001b[0m \u001b[32m━━━━━━━━━━━━━━━━━━━━\u001b[0m\u001b[37m\u001b[0m \u001b[1m39s\u001b[0m 299ms/step - accuracy: 0.7388 - loss: 0.5062 - val_accuracy: 0.5522 - val_loss: 0.7262\n",
      "Epoch 5/25\n",
      "\u001b[1m125/125\u001b[0m \u001b[32m━━━━━━━━━━━━━━━━━━━━\u001b[0m\u001b[37m\u001b[0m \u001b[1m39s\u001b[0m 298ms/step - accuracy: 0.8912 - loss: 0.3308 - val_accuracy: 0.7090 - val_loss: 0.8326\n",
      "Epoch 6/25\n",
      "\u001b[1m125/125\u001b[0m \u001b[32m━━━━━━━━━━━━━━━━━━━━\u001b[0m\u001b[37m\u001b[0m \u001b[1m41s\u001b[0m 300ms/step - accuracy: 0.9369 - loss: 0.2026 - val_accuracy: 0.7313 - val_loss: 1.5384\n",
      "Epoch 7/25\n",
      "\u001b[1m125/125\u001b[0m \u001b[32m━━━━━━━━━━━━━━━━━━━━\u001b[0m\u001b[37m\u001b[0m \u001b[1m39s\u001b[0m 299ms/step - accuracy: 0.9245 - loss: 0.2384 - val_accuracy: 0.8806 - val_loss: 0.2858\n",
      "Epoch 8/25\n",
      "\u001b[1m125/125\u001b[0m \u001b[32m━━━━━━━━━━━━━━━━━━━━\u001b[0m\u001b[37m\u001b[0m \u001b[1m41s\u001b[0m 299ms/step - accuracy: 0.9682 - loss: 0.0963 - val_accuracy: 0.8881 - val_loss: 0.2892\n",
      "Epoch 9/25\n",
      "\u001b[1m125/125\u001b[0m \u001b[32m━━━━━━━━━━━━━━━━━━━━\u001b[0m\u001b[37m\u001b[0m \u001b[1m41s\u001b[0m 314ms/step - accuracy: 0.9689 - loss: 0.0870 - val_accuracy: 0.9030 - val_loss: 0.3170\n",
      "Epoch 10/25\n",
      "\u001b[1m125/125\u001b[0m \u001b[32m━━━━━━━━━━━━━━━━━━━━\u001b[0m\u001b[37m\u001b[0m \u001b[1m39s\u001b[0m 303ms/step - accuracy: 0.9863 - loss: 0.0560 - val_accuracy: 0.9104 - val_loss: 0.2534\n",
      "Epoch 11/25\n",
      "\u001b[1m125/125\u001b[0m \u001b[32m━━━━━━━━━━━━━━━━━━━━\u001b[0m\u001b[37m\u001b[0m \u001b[1m41s\u001b[0m 318ms/step - accuracy: 0.9514 - loss: 0.1374 - val_accuracy: 0.8731 - val_loss: 0.3281\n",
      "Epoch 12/25\n",
      "\u001b[1m125/125\u001b[0m \u001b[32m━━━━━━━━━━━━━━━━━━━━\u001b[0m\u001b[37m\u001b[0m \u001b[1m39s\u001b[0m 297ms/step - accuracy: 0.9588 - loss: 0.1130 - val_accuracy: 0.9030 - val_loss: 0.3640\n",
      "Epoch 13/25\n",
      "\u001b[1m125/125\u001b[0m \u001b[32m━━━━━━━━━━━━━━━━━━━━\u001b[0m\u001b[37m\u001b[0m \u001b[1m38s\u001b[0m 297ms/step - accuracy: 0.9672 - loss: 0.1058 - val_accuracy: 0.8731 - val_loss: 0.3076\n",
      "Epoch 14/25\n",
      "\u001b[1m125/125\u001b[0m \u001b[32m━━━━━━━━━━━━━━━━━━━━\u001b[0m\u001b[37m\u001b[0m \u001b[1m39s\u001b[0m 298ms/step - accuracy: 0.9486 - loss: 0.1711 - val_accuracy: 0.8731 - val_loss: 0.4150\n",
      "Epoch 15/25\n",
      "\u001b[1m125/125\u001b[0m \u001b[32m━━━━━━━━━━━━━━━━━━━━\u001b[0m\u001b[37m\u001b[0m \u001b[1m42s\u001b[0m 310ms/step - accuracy: 0.9795 - loss: 0.0794 - val_accuracy: 0.9179 - val_loss: 0.2597\n",
      "Epoch 16/25\n",
      "\u001b[1m125/125\u001b[0m \u001b[32m━━━━━━━━━━━━━━━━━━━━\u001b[0m\u001b[37m\u001b[0m \u001b[1m38s\u001b[0m 292ms/step - accuracy: 0.9735 - loss: 0.1058 - val_accuracy: 0.8134 - val_loss: 0.4519\n",
      "Epoch 17/25\n",
      "\u001b[1m125/125\u001b[0m \u001b[32m━━━━━━━━━━━━━━━━━━━━\u001b[0m\u001b[37m\u001b[0m \u001b[1m41s\u001b[0m 313ms/step - accuracy: 0.9331 - loss: 0.2034 - val_accuracy: 0.8582 - val_loss: 0.3538\n",
      "Epoch 18/25\n",
      "\u001b[1m125/125\u001b[0m \u001b[32m━━━━━━━━━━━━━━━━━━━━\u001b[0m\u001b[37m\u001b[0m \u001b[1m38s\u001b[0m 291ms/step - accuracy: 0.9609 - loss: 0.1297 - val_accuracy: 0.9478 - val_loss: 0.1472\n",
      "Epoch 19/25\n",
      "\u001b[1m125/125\u001b[0m \u001b[32m━━━━━━━━━━━━━━━━━━━━\u001b[0m\u001b[37m\u001b[0m \u001b[1m41s\u001b[0m 315ms/step - accuracy: 0.9510 - loss: 0.2170 - val_accuracy: 0.7239 - val_loss: 0.5453\n",
      "Epoch 20/25\n",
      "\u001b[1m125/125\u001b[0m \u001b[32m━━━━━━━━━━━━━━━━━━━━\u001b[0m\u001b[37m\u001b[0m \u001b[1m40s\u001b[0m 305ms/step - accuracy: 0.9286 - loss: 0.2229 - val_accuracy: 0.8731 - val_loss: 0.3859\n",
      "Epoch 21/25\n",
      "\u001b[1m125/125\u001b[0m \u001b[32m━━━━━━━━━━━━━━━━━━━━\u001b[0m\u001b[37m\u001b[0m \u001b[1m39s\u001b[0m 297ms/step - accuracy: 0.9535 - loss: 0.1555 - val_accuracy: 0.8731 - val_loss: 0.4120\n",
      "Epoch 22/25\n",
      "\u001b[1m125/125\u001b[0m \u001b[32m━━━━━━━━━━━━━━━━━━━━\u001b[0m\u001b[37m\u001b[0m \u001b[1m38s\u001b[0m 296ms/step - accuracy: 0.9699 - loss: 0.0971 - val_accuracy: 0.9179 - val_loss: 0.2759\n",
      "Epoch 23/25\n",
      "\u001b[1m125/125\u001b[0m \u001b[32m━━━━━━━━━━━━━━━━━━━━\u001b[0m\u001b[37m\u001b[0m \u001b[1m41s\u001b[0m 293ms/step - accuracy: 0.9785 - loss: 0.0641 - val_accuracy: 0.8955 - val_loss: 0.3363\n",
      "Epoch 24/25\n",
      "\u001b[1m125/125\u001b[0m \u001b[32m━━━━━━━━━━━━━━━━━━━━\u001b[0m\u001b[37m\u001b[0m \u001b[1m41s\u001b[0m 292ms/step - accuracy: 0.9925 - loss: 0.0401 - val_accuracy: 0.8060 - val_loss: 4.4180\n",
      "Epoch 25/25\n",
      "\u001b[1m125/125\u001b[0m \u001b[32m━━━━━━━━━━━━━━━━━━━━\u001b[0m\u001b[37m\u001b[0m \u001b[1m41s\u001b[0m 293ms/step - accuracy: 0.9139 - loss: 0.3452 - val_accuracy: 0.6269 - val_loss: 0.6151\n"
     ]
    },
    {
     "data": {
      "text/plain": [
       "<keras.src.callbacks.history.History at 0x7a1ba447c510>"
      ]
     },
     "execution_count": 17,
     "metadata": {},
     "output_type": "execute_result"
    }
   ],
   "source": [
    "model.fit(\n",
    "    train_generator,\n",
    "    steps_per_epoch=2000//16,\n",
    "    epochs=25,\n",
    "    validation_data=validation_generator,\n",
    "    validation_steps=800//16)\n",
    "    \n"
   ]
  }
 ],
 "metadata": {
  "kaggle": {
   "accelerator": "none",
   "dataSources": [
    {
     "datasetId": 860735,
     "sourceId": 1467530,
     "sourceType": "datasetVersion"
    }
   ],
   "dockerImageVersionId": 31089,
   "isGpuEnabled": false,
   "isInternetEnabled": true,
   "language": "python",
   "sourceType": "notebook"
  },
  "kernelspec": {
   "display_name": "Python 3",
   "language": "python",
   "name": "python3"
  },
  "language_info": {
   "codemirror_mode": {
    "name": "ipython",
    "version": 3
   },
   "file_extension": ".py",
   "mimetype": "text/x-python",
   "name": "python",
   "nbconvert_exporter": "python",
   "pygments_lexer": "ipython3",
   "version": "3.11.13"
  },
  "papermill": {
   "default_parameters": {},
   "duration": 1184.592973,
   "end_time": "2025-08-26T15:38:07.746648",
   "environment_variables": {},
   "exception": null,
   "input_path": "__notebook__.ipynb",
   "output_path": "__notebook__.ipynb",
   "parameters": {},
   "start_time": "2025-08-26T15:18:23.153675",
   "version": "2.6.0"
  }
 },
 "nbformat": 4,
 "nbformat_minor": 5
}
